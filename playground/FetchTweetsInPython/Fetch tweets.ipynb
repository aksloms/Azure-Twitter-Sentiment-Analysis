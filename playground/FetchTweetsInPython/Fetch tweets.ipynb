{
 "cells": [
  {
   "cell_type": "markdown",
   "metadata": {},
   "source": [
    "# Fetch tweets prototype"
   ]
  },
  {
   "cell_type": "markdown",
   "metadata": {},
   "source": [
    "Practice how to fetch tweets for selected hashtags with [search-tweets-python](https://github.com/twitterdev/search-tweets-python) using Twitter API v2"
   ]
  },
  {
   "cell_type": "markdown",
   "metadata": {},
   "source": [
    "Install library"
   ]
  },
  {
   "cell_type": "code",
   "execution_count": 1,
   "metadata": {
    "ExecuteTime": {
     "end_time": "2020-12-16T15:40:32.517013Z",
     "start_time": "2020-12-16T15:40:30.291069Z"
    }
   },
   "outputs": [
    {
     "name": "stdout",
     "output_type": "stream",
     "text": [
      "Requirement already satisfied: searchtweets-v2 in /usr/local/anaconda3/lib/python3.7/site-packages (1.0.4)\n",
      "Requirement already satisfied: pyyaml in /usr/local/anaconda3/lib/python3.7/site-packages (from searchtweets-v2) (5.3.1)\n",
      "Requirement already satisfied: python-dateutil in /usr/local/anaconda3/lib/python3.7/site-packages (from searchtweets-v2) (2.8.1)\n",
      "Requirement already satisfied: requests in /usr/local/anaconda3/lib/python3.7/site-packages (from searchtweets-v2) (2.24.0)\n",
      "Requirement already satisfied: six>=1.5 in /usr/local/anaconda3/lib/python3.7/site-packages (from python-dateutil->searchtweets-v2) (1.15.0)\n",
      "Requirement already satisfied: idna<3,>=2.5 in /usr/local/anaconda3/lib/python3.7/site-packages (from requests->searchtweets-v2) (2.10)\n",
      "Requirement already satisfied: chardet<4,>=3.0.2 in /usr/local/anaconda3/lib/python3.7/site-packages (from requests->searchtweets-v2) (3.0.4)\n",
      "Requirement already satisfied: certifi>=2017.4.17 in /usr/local/anaconda3/lib/python3.7/site-packages (from requests->searchtweets-v2) (2020.6.20)\n",
      "Requirement already satisfied: urllib3!=1.25.0,!=1.25.1,<1.26,>=1.21.1 in /usr/local/anaconda3/lib/python3.7/site-packages (from requests->searchtweets-v2) (1.25.11)\n"
     ]
    }
   ],
   "source": [
    "# Install a pip package in the current Jupyter kernel\n",
    "import sys\n",
    "!{sys.executable} -m pip install searchtweets-v2"
   ]
  },
  {
   "cell_type": "markdown",
   "metadata": {},
   "source": [
    "Make sure to fill credentials in `twitter_keys.yaml` before running the cells"
   ]
  },
  {
   "cell_type": "code",
   "execution_count": 2,
   "metadata": {
    "ExecuteTime": {
     "end_time": "2020-12-16T15:40:36.075560Z",
     "start_time": "2020-12-16T15:40:35.943743Z"
    }
   },
   "outputs": [],
   "source": [
    "from datetime import datetime, timedelta\n",
    "from searchtweets import ResultStream, gen_request_parameters, load_credentials, collect_results, convert_utc_time"
   ]
  },
  {
   "cell_type": "code",
   "execution_count": 6,
   "metadata": {
    "ExecuteTime": {
     "end_time": "2020-12-09T17:48:06.446614Z",
     "start_time": "2020-12-09T17:48:06.443734Z"
    }
   },
   "outputs": [
    {
     "name": "stdout",
     "output_type": "stream",
     "text": [
      "Help on function gen_request_parameters in module searchtweets.api_utils:\n",
      "\n",
      "gen_request_parameters(query, results_per_call=None, start_time=None, end_time=None, since_id=None, until_id=None, tweet_fields=None, user_fields=None, media_fields=None, place_fields=None, poll_fields=None, expansions=None, stringify=True)\n",
      "    Generates the dict or json payload for a search query.\n",
      "    \n",
      "    Args:\n",
      "        query (str): The string version of a search query,\n",
      "            e.g., \"snow has:media -is:retweet\". Accepts multi-line strings\n",
      "            for ease of entry.\n",
      "        results_per_call (int): number of tweets or counts returned per API\n",
      "        call. This maps to the `max_results`` search API parameter.\n",
      "            Defaults to 100 (maximum supported in Labs).\n",
      "        start_time (str or None): Date format as specified by\n",
      "            `convert_utc_time` for the starting time of your search.\n",
      "        end_time (str or None): date format as specified by `convert_utc_time`\n",
      "            for the end time of your search.\n",
      "        tweet_fields (string): comma-delimted list of Tweet JSON attributes wanted in endpoint responses. Default is \"id,created_at,text\").\n",
      "        Also user_fields, media_fields, place_fields, poll_fields\n",
      "        expansions (string): comma-delimited list of object expansions.\n",
      "        stringify (bool): specifies the return type, `dict`\n",
      "            or json-formatted `str`.\n",
      "    \n",
      "    Example:\n",
      "    \n",
      "        >>> from searchtweets.utils import gen_request_parameters\n",
      "        >>> gen_request_parameters(\"snow has:media -is:retweet\",\n",
      "            ...              from_date=\"2020-02-18\",\n",
      "            ...              to_date=\"2020-02-21\")\n",
      "        '{\"query\":\"snow has:media -is:retweet\",\"max_results\":100,\"start_time\":\"202002180000\",\"end_time\":\"202002210000\"}'\n",
      "\n"
     ]
    }
   ],
   "source": [
    "help(gen_request_parameters)"
   ]
  },
  {
   "cell_type": "code",
   "execution_count": 3,
   "metadata": {
    "ExecuteTime": {
     "end_time": "2020-12-16T15:40:47.579202Z",
     "start_time": "2020-12-16T15:40:47.123359Z"
    }
   },
   "outputs": [],
   "source": [
    "search_args = load_credentials('./twitter_keys.yaml',\n",
    "                               yaml_key='search_tweets_v2',\n",
    "                               env_overwrite=False)\n",
    "\n",
    "start_time = datetime.now() - timedelta(minutes=10, hours=1) # Some time sync issue: Doesn't work without aditional hour. It's like I've -1h by default\n",
    "query = gen_request_parameters('#Warsaw', \n",
    "                               start_time=start_time.strftime(\"%Y-%m-%d %H:%M\"),\n",
    "                               results_per_call=10)\n",
    "\n",
    "\n",
    "tweets = collect_results(query,\n",
    "                         max_tweets=100,\n",
    "                         result_stream_args=search_args)\n"
   ]
  },
  {
   "cell_type": "code",
   "execution_count": 4,
   "metadata": {
    "ExecuteTime": {
     "end_time": "2020-12-16T15:40:48.454630Z",
     "start_time": "2020-12-16T15:40:48.444947Z"
    }
   },
   "outputs": [
    {
     "data": {
      "text/plain": [
       "[{'id': '1339233194759995393',\n",
       "  'text': 'RT @music_sonos: Con Maria Pomianowska, Direttore Artistico del Cross-Culture Festival di Varsavia. Dalla World Music al Pop, Maffucci Musi…'},\n",
       " {'id': '1339231310280200193',\n",
       "  'text': 'Holiday light display in Central Park, Warsaw, Indiana https://t.co/5CGt4SjKuk #municipal #government #warsaw #indiana #holiday'},\n",
       " {'newest_id': '1339233194759995393',\n",
       "  'oldest_id': '1339231310280200193',\n",
       "  'result_count': 2}]"
      ]
     },
     "execution_count": 4,
     "metadata": {},
     "output_type": "execute_result"
    }
   ],
   "source": [
    "tweets"
   ]
  },
  {
   "cell_type": "code",
   "execution_count": 80,
   "metadata": {
    "ExecuteTime": {
     "end_time": "2020-12-09T18:30:04.266992Z",
     "start_time": "2020-12-09T18:30:04.257426Z"
    }
   },
   "outputs": [
    {
     "name": "stdout",
     "output_type": "stream",
     "text": [
      "#warsaw goes blue- a strong message to the EU #RuleOfLaw ⁦@AkcjaDemokracja⁩ https://t.co/MI66tylpQr\n",
      "\n",
      "RT @URDailyHistory: 9 Dec 1990: In #Poland, Lech #Walesa, founder of the Solidarity trade union, wins a #landslide #election victory over #…\n",
      "\n",
      "RT @URDailyHistory: 9 Dec 1990: In #Poland, Lech #Walesa, founder of the Solidarity trade union, wins a #landslide #election victory over #…\n",
      "\n",
      "RT @ecrgroup: It is time to #ResetEU\n",
      "\n",
      "The Future of #Europe 🇪🇺 @Reset_EU_ECR campaign gets underway this Friday 11/12 with a live broadcast…\n",
      "\n",
      "RT @URDailyHistory: 9 Dec 1990: In #Poland, Lech #Walesa, founder of the Solidarity trade union, wins a #landslide #election victory over #…\n",
      "\n",
      "To mówicie, że jest wstępne porozumienie? #Veto #Budapest #Warsaw #Budget2021 https://t.co/abQr8Rzc8j\n",
      "\n",
      "RT @hiddenEurope: The places of #hiddeneurope and a gateway to heaven – reconstructed elements of the Gwoździec synagogue at POLIN: Museum…\n",
      "\n",
      "RT @milkqueen_photo: ❤️Fot. Pamela Paula Trzaska❤️\n",
      "\n",
      "#blackandwhitephotography #pictures #photooftheday #Warszawa #Poland #Warsaw #MyPhoto #…\n",
      "\n"
     ]
    },
    {
     "ename": "KeyError",
     "evalue": "'text'",
     "output_type": "error",
     "traceback": [
      "\u001b[0;31m---------------------------------------------------------------------------\u001b[0m",
      "\u001b[0;31mKeyError\u001b[0m                                  Traceback (most recent call last)",
      "\u001b[0;32m<ipython-input-80-eddb7956cc37>\u001b[0m in \u001b[0;36m<module>\u001b[0;34m\u001b[0m\n\u001b[1;32m      1\u001b[0m \u001b[0;32mfor\u001b[0m \u001b[0mt\u001b[0m \u001b[0;32min\u001b[0m \u001b[0mtweets\u001b[0m\u001b[0;34m:\u001b[0m\u001b[0;34m\u001b[0m\u001b[0;34m\u001b[0m\u001b[0m\n\u001b[0;32m----> 2\u001b[0;31m     \u001b[0mprint\u001b[0m\u001b[0;34m(\u001b[0m\u001b[0mt\u001b[0m\u001b[0;34m[\u001b[0m\u001b[0;34m'text'\u001b[0m\u001b[0;34m]\u001b[0m\u001b[0;34m)\u001b[0m\u001b[0;34m\u001b[0m\u001b[0;34m\u001b[0m\u001b[0m\n\u001b[0m\u001b[1;32m      3\u001b[0m     \u001b[0mprint\u001b[0m\u001b[0;34m(\u001b[0m\u001b[0;34m)\u001b[0m\u001b[0;34m\u001b[0m\u001b[0;34m\u001b[0m\u001b[0m\n",
      "\u001b[0;31mKeyError\u001b[0m: 'text'"
     ]
    }
   ],
   "source": [
    "for t in tweets:\n",
    "    print(t['text'])\n",
    "    print()"
   ]
  },
  {
   "cell_type": "markdown",
   "metadata": {},
   "source": [
    "## EY proposed hashtags"
   ]
  },
  {
   "cell_type": "markdown",
   "metadata": {},
   "source": [
    "#kwarantanna #vege\n",
    "#IgaŚwiatek #hot16challenge\n",
    "#fitness #krolowezycia\n",
    "#kryzys #ikea\n",
    "#łódź #halloween\n",
    "#kawa #radom\n",
    "#karmieniepiersia #pomidorowa\n",
    "#COVID19 #nvidia\n",
    "#poniedziałek #biedronka"
   ]
  },
  {
   "cell_type": "code",
   "execution_count": 6,
   "metadata": {
    "ExecuteTime": {
     "end_time": "2020-12-16T15:53:05.579155Z",
     "start_time": "2020-12-16T15:53:05.574588Z"
    }
   },
   "outputs": [
    {
     "data": {
      "text/plain": [
       "['#kwarantanna',\n",
       " '#vege',\n",
       " '#IgaŚwiatek',\n",
       " '#hot16challenge',\n",
       " '#fitness',\n",
       " '#krolowezycia',\n",
       " '#kryzys',\n",
       " '#ikea',\n",
       " '#łódź',\n",
       " '#halloween',\n",
       " '#kawa',\n",
       " '#radom',\n",
       " '#karmieniepiersia',\n",
       " '#pomidorowa',\n",
       " '#COVID19',\n",
       " '#nvidia',\n",
       " '#poniedziałek',\n",
       " '#biedronka']"
      ]
     },
     "execution_count": 6,
     "metadata": {},
     "output_type": "execute_result"
    }
   ],
   "source": [
    "hashtags = ['#kwarantanna', '#vege', '#IgaŚwiatek', '#hot16challenge', '#fitness', '#krolowezycia', '#kryzys', '#ikea', '#łódź', '#halloween', '#kawa', '#radom', '#karmieniepiersia', '#pomidorowa', '#COVID19', '#nvidia', '#poniedziałek', '#biedronka']\n",
    "hashtags"
   ]
  },
  {
   "cell_type": "code",
   "execution_count": null,
   "metadata": {},
   "outputs": [],
   "source": []
  }
 ],
 "metadata": {
  "kernelspec": {
   "display_name": "Python 3",
   "language": "python",
   "name": "python3"
  },
  "language_info": {
   "codemirror_mode": {
    "name": "ipython",
    "version": 3
   },
   "file_extension": ".py",
   "mimetype": "text/x-python",
   "name": "python",
   "nbconvert_exporter": "python",
   "pygments_lexer": "ipython3",
   "version": "3.7.9"
  },
  "toc": {
   "base_numbering": 1,
   "nav_menu": {},
   "number_sections": false,
   "sideBar": true,
   "skip_h1_title": false,
   "title_cell": "Table of Contents",
   "title_sidebar": "Contents",
   "toc_cell": false,
   "toc_position": {},
   "toc_section_display": true,
   "toc_window_display": false
  },
  "varInspector": {
   "cols": {
    "lenName": 16,
    "lenType": 16,
    "lenVar": 40
   },
   "kernels_config": {
    "python": {
     "delete_cmd_postfix": "",
     "delete_cmd_prefix": "del ",
     "library": "var_list.py",
     "varRefreshCmd": "print(var_dic_list())"
    },
    "r": {
     "delete_cmd_postfix": ") ",
     "delete_cmd_prefix": "rm(",
     "library": "var_list.r",
     "varRefreshCmd": "cat(var_dic_list()) "
    }
   },
   "types_to_exclude": [
    "module",
    "function",
    "builtin_function_or_method",
    "instance",
    "_Feature"
   ],
   "window_display": false
  }
 },
 "nbformat": 4,
 "nbformat_minor": 4
}
