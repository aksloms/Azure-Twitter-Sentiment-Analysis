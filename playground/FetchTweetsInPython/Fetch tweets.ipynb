{
 "cells": [
  {
   "cell_type": "markdown",
   "metadata": {},
   "source": [
    "# Fetch tweets prototype"
   ]
  },
  {
   "cell_type": "markdown",
   "metadata": {},
   "source": [
    "Practice how to fetch tweets for selected hashtags with [search-tweets-python](https://github.com/twitterdev/search-tweets-python) using Twitter API v2"
   ]
  },
  {
   "cell_type": "markdown",
   "metadata": {},
   "source": [
    "Install library"
   ]
  },
  {
   "cell_type": "code",
   "execution_count": 1,
   "metadata": {
    "ExecuteTime": {
     "end_time": "2020-12-09T17:20:51.218011Z",
     "start_time": "2020-12-09T17:20:47.824130Z"
    }
   },
   "outputs": [
    {
     "name": "stdout",
     "output_type": "stream",
     "text": [
      "Collecting searchtweets-v2\n",
      "  Downloading searchtweets_v2-1.0.4-py3-none-any.whl (28 kB)\n",
      "Requirement already satisfied: python-dateutil in /usr/local/anaconda3/lib/python3.7/site-packages (from searchtweets-v2) (2.8.1)\n",
      "Requirement already satisfied: pyyaml in /usr/local/anaconda3/lib/python3.7/site-packages (from searchtweets-v2) (5.3.1)\n",
      "Requirement already satisfied: requests in /usr/local/anaconda3/lib/python3.7/site-packages (from searchtweets-v2) (2.24.0)\n",
      "Requirement already satisfied: six>=1.5 in /usr/local/anaconda3/lib/python3.7/site-packages (from python-dateutil->searchtweets-v2) (1.15.0)\n",
      "Requirement already satisfied: certifi>=2017.4.17 in /usr/local/anaconda3/lib/python3.7/site-packages (from requests->searchtweets-v2) (2020.6.20)\n",
      "Requirement already satisfied: idna<3,>=2.5 in /usr/local/anaconda3/lib/python3.7/site-packages (from requests->searchtweets-v2) (2.10)\n",
      "Requirement already satisfied: urllib3!=1.25.0,!=1.25.1,<1.26,>=1.21.1 in /usr/local/anaconda3/lib/python3.7/site-packages (from requests->searchtweets-v2) (1.25.11)\n",
      "Requirement already satisfied: chardet<4,>=3.0.2 in /usr/local/anaconda3/lib/python3.7/site-packages (from requests->searchtweets-v2) (3.0.4)\n",
      "Installing collected packages: searchtweets-v2\n",
      "Successfully installed searchtweets-v2-1.0.4\n"
     ]
    }
   ],
   "source": [
    "# Install a pip package in the current Jupyter kernel\n",
    "import sys\n",
    "!{sys.executable} -m pip install searchtweets-v2"
   ]
  },
  {
   "cell_type": "markdown",
   "metadata": {},
   "source": [
    "Make sure to fill credentials in `twitter_keys.yaml` before running the cells"
   ]
  },
  {
   "cell_type": "code",
   "execution_count": 10,
   "metadata": {
    "ExecuteTime": {
     "end_time": "2020-12-09T17:51:02.482645Z",
     "start_time": "2020-12-09T17:51:02.480099Z"
    }
   },
   "outputs": [],
   "source": [
    "from searchtweets import ResultStream, gen_request_parameters, load_credentials, collect_results"
   ]
  },
  {
   "cell_type": "code",
   "execution_count": 6,
   "metadata": {
    "ExecuteTime": {
     "end_time": "2020-12-09T17:48:06.446614Z",
     "start_time": "2020-12-09T17:48:06.443734Z"
    }
   },
   "outputs": [
    {
     "name": "stdout",
     "output_type": "stream",
     "text": [
      "Help on function gen_request_parameters in module searchtweets.api_utils:\n",
      "\n",
      "gen_request_parameters(query, results_per_call=None, start_time=None, end_time=None, since_id=None, until_id=None, tweet_fields=None, user_fields=None, media_fields=None, place_fields=None, poll_fields=None, expansions=None, stringify=True)\n",
      "    Generates the dict or json payload for a search query.\n",
      "    \n",
      "    Args:\n",
      "        query (str): The string version of a search query,\n",
      "            e.g., \"snow has:media -is:retweet\". Accepts multi-line strings\n",
      "            for ease of entry.\n",
      "        results_per_call (int): number of tweets or counts returned per API\n",
      "        call. This maps to the `max_results`` search API parameter.\n",
      "            Defaults to 100 (maximum supported in Labs).\n",
      "        start_time (str or None): Date format as specified by\n",
      "            `convert_utc_time` for the starting time of your search.\n",
      "        end_time (str or None): date format as specified by `convert_utc_time`\n",
      "            for the end time of your search.\n",
      "        tweet_fields (string): comma-delimted list of Tweet JSON attributes wanted in endpoint responses. Default is \"id,created_at,text\").\n",
      "        Also user_fields, media_fields, place_fields, poll_fields\n",
      "        expansions (string): comma-delimited list of object expansions.\n",
      "        stringify (bool): specifies the return type, `dict`\n",
      "            or json-formatted `str`.\n",
      "    \n",
      "    Example:\n",
      "    \n",
      "        >>> from searchtweets.utils import gen_request_parameters\n",
      "        >>> gen_request_parameters(\"snow has:media -is:retweet\",\n",
      "            ...              from_date=\"2020-02-18\",\n",
      "            ...              to_date=\"2020-02-21\")\n",
      "        '{\"query\":\"snow has:media -is:retweet\",\"max_results\":100,\"start_time\":\"202002180000\",\"end_time\":\"202002210000\"}'\n",
      "\n"
     ]
    }
   ],
   "source": [
    "help(gen_request_parameters)"
   ]
  },
  {
   "cell_type": "code",
   "execution_count": 11,
   "metadata": {
    "ExecuteTime": {
     "end_time": "2020-12-09T17:51:05.005998Z",
     "start_time": "2020-12-09T17:51:04.417981Z"
    }
   },
   "outputs": [
    {
     "data": {
      "text/plain": [
       "[{'id': '1336730049496686593',\n",
       "  'text': 'Xmas candy tree with Twinkly leds and some lights inside snow balls @twinkly_led https://t.co/20VD3qBmy3'},\n",
       " {'id': '1336730049022742531',\n",
       "  'text': \"@nice_learning @posting @RealDylanKnight @phuketamine @sexy_robotnik @beans_n_bops @heckmanatee @NapoleonGroyper @circuspeanutss @hidIive @EGattignolo @leothotsky69420 @drbonertron @AntifaGroyper @AldousMartin091 @BobooTobian @TheClickPit @Starscape14 @a_bonarlaw @Christie_Malry @achtung_maybe @make_it_snow @zzzmisanthrope @AssuncionLopez @canadapoast @IBeetman @Elgritto1 @Angry_Time_Lord @ChrisFalconer16 @fireofthylove @FHHuntress @yagigote @MusclesQueen @GenXRadFem @dinahbrand2 @MaosLittleEGirl @Gooseberry_Stew @arthurfaeleith @VanKingoff @altuov @phnomfriend @lauraFWG @THATAllenCovert @TheoFisk @tbruceWU @haha_they @OfBinladen @GarbageGangHQ Maybe if they had learned about genotype and phenotype in third grade they wouldn't be like this\"},\n",
       " {'id': '1336730046703210496',\n",
       "  'text': 'RT @saralippmann: Mary Ruefle. Every time it starts to snow\\nhttps://t.co/TgMgDh2QdX'},\n",
       " {'id': '1336730046531317763', 'text': 'Snow what a surprise'},\n",
       " {'id': '1336730046162214913', 'text': 'Snow! No no no! 🥶❄️☃️'},\n",
       " {'id': '1336730045973409793',\n",
       "  'text': '@NeilLewisJr I’m trying to embrace your very positive spirit and practice because I’m irrationally mad at this cold and snow.'},\n",
       " {'id': '1336730042072772615',\n",
       "  'text': '@Annaa0300 I saw on the news you were having snow showers 🥶'},\n",
       " {'id': '1336730037924589571',\n",
       "  'text': '@scriptednorth I think he likes snow\\n\\nIts rlly good but dont add too much vanilla'},\n",
       " {'id': '1336730037651968002',\n",
       "  'text': 'RT @baecheesus: Queen of writing 레드벨벳 on the snow with her selfie stick (hopefully she didn’t break it)\\n\\n#7YearsWithIrene\\n#ForeverWithIrene…'},\n",
       " {'id': '1336730035181428737',\n",
       "  'text': 'We love the snow and making snow men together! https://t.co/gtkfhf6xAr'},\n",
       " {'id': '1336730034913030145',\n",
       "  'text': 'RT @JadanSnow: Everything you seek is already within you. You cannot find inner peace anywhere outside yourself\\nhttps://t.co/Vcyu9HVTqz htt…'},\n",
       " {'id': '1336730034720030721',\n",
       "  'text': 'https://t.co/AYbvbKgERM\\nCheck out the only real source for Colorado snow forecasts Joe Gratz from @findOpenSnow talking tonight about the upcoming 🌨❄️'},\n",
       " {'id': '1336730034007052288',\n",
       "  'text': 'Let ❄️ it ⛄️ snow ❄️ https://t.co/m2s9cUWwVK'},\n",
       " {'id': '1336730033688338434',\n",
       "  'text': 'RT @CortesSteve: Sadly, OSU-Michigan is canceled for this weekend. A look back at the 1950 Snow Bowl where the Wolverines won 9-3 without a…'},\n",
       " {'id': '1336730033021464578',\n",
       "  'text': 'Brought my car to get inspected and walked home in the snow. Let me tell ya a mask can block out the snow'},\n",
       " {'id': '1336730031691866112', 'text': 'Bidden bought snow back'},\n",
       " {'id': '1336730031624757249',\n",
       "  'text': 'RT @BarstoolPhiIIy: (2013) The Snow Bowl game. \\n https://t.co/FIGgltanIK'},\n",
       " {'id': '1336730030861398017',\n",
       "  'text': '@JoJoFromJerz So pretty! We need snow to get the Tennessee shit birds out of here and away from my vehicles.'},\n",
       " {'id': '1336730030475522049',\n",
       "  'text': '【お知らせ】\\n  ハッシュタグ[ #sanin_snow ]の関係は12月から3月の午前4時台から投稿しています。道路状況、ライブカメラ、交通情報など、お出かけ前にチェックしていただければ有難いです。'},\n",
       " {'id': '1336730030186098688',\n",
       "  'text': \"RT @Pokemon: Lycanroc hasn't quite discovered how to make snow angels yet, but we're proud of it regardless. https://t.co/vLnXY8Fw1A\"},\n",
       " {'id': '1336730029825417217',\n",
       "  'text': 'People talkin about snow and i haven’t even seen a snowflake'},\n",
       " {'id': '1336730029695377408',\n",
       "  'text': '@brianstelter Not impressed by the snow.......but VERY impressed that you own a farm......kudos...!'},\n",
       " {'id': '1336730029145944064',\n",
       "  'text': 'Y’all let a little snow ruin your mood? Can’t relate lol'},\n",
       " {'id': '1336730028273328129',\n",
       "  'text': 'East coast besties saying snow but im too lazy to scooch 4 cm and look out the window'},\n",
       " {'id': '1336730028063793152',\n",
       "  'text': 'Remembering how much I hate commuting in the snow was exactly the serotonin boost I needed today'},\n",
       " {'id': '1336730027447169032',\n",
       "  'text': 'Family and friends coming to visit for the holidays? Bring them up to Lake George and enjoy Festival Commons with 2.5 acres of land.  The most beautiful time of the year with the sparkling snow! https://t.co/Qd4NuqO7gF'},\n",
       " {'id': '1336730024813146115',\n",
       "  'text': 'I see the snow now lmao var keep tryna go outside 🤣🤣 ITS NOT STICKING VAR DANG'},\n",
       " {'id': '1336730024079208450',\n",
       "  'text': 'It still amazes how some react when you they see snow falling.😭'},\n",
       " {'id': '1336730021118042120',\n",
       "  'text': 'This snow flirt shyt better than rain'},\n",
       " {'id': '1336730020954464260',\n",
       "  'text': 'So the #Van is once again back in #Spain and on route to its deliveries and are seeing snow'},\n",
       " {'id': '1336730020711165954',\n",
       "  'text': 'Congrats to everyone in New York seeing the first snow of the season — you did it!'},\n",
       " {'id': '1336730020211994627',\n",
       "  'text': 'RT @DeeJayMarc321: Tap in y’all @prettyboyJonLuc LIVE SNOW &amp; VIBE https://t.co/ur8GSTA3LQ'},\n",
       " {'id': '1336730019687698433',\n",
       "  'text': '0.3” of snow here 1 NNW Colonie as of 12:45 pm.  Still seeing some light snow which is sticking to untreated surfaces. @NWSAlbany @PaulCaiano  @JillSzwedWx @MackieMet #nywx https://t.co/ZNPwesjbb0'},\n",
       " {'id': '1336730019406753793',\n",
       "  'text': '@AriTheDon can you get in some snow with the bikini 😍😍or it’s not snowing a lot ?? 😭😭'},\n",
       " {'id': '1336730018244923393',\n",
       "  'text': 'RT @Launchpad4L: Day 9: Alan is feeling very chilly...today he is learning about snow ❄️☃️🌨️ @HackneyTalk @JennyHRay @DaubeneyHackney @prim…'},\n",
       " {'id': '1336730017988931584',\n",
       "  'text': 'RT @ddiwa_: 22 yr old grown up man wearing snow white socks? 🥺 https://t.co/D5EjIti1D1'},\n",
       " {'id': '1336730016374206468',\n",
       "  'text': '@cillia Lol, the first snow is always fun. But then it gets old reeeeal quick.'},\n",
       " {'id': '1336730016365891585', 'text': 'This snow is trash'},\n",
       " {'id': '1336730014188965894',\n",
       "  'text': 'them high school snow days was elite 😂'},\n",
       " {'id': '1336730013413105666', 'text': 'put the snow away right now 😤'},\n",
       " {'id': '1336730012016242688',\n",
       "  'text': 'I’m jealous of all the people who are getting snow right now, it hasn’t snowed since early november for me :('},\n",
       " {'id': '1336730011890556931',\n",
       "  'text': 'It’s That Time of The Year Again! ⛄️\\n\\n@compensator_01 Can Am Renegade Equipped with Demon Axles! 👊\\n#Polaris #Canam #Yamaha #DemonPowersports #DemonAxles #Atv #Utv #Honda #FridayMotivation #Offroad #Offroading #Racing #RacingClub #DirtLife #SXS #beastmode #weekend #snow https://t.co/LbQVDB8RyQ'},\n",
       " {'id': '1336730011890450432',\n",
       "  'text': 'RT @AWollfie: Nightmarecember\\n8. Snow\\n#nightmarecember https://t.co/1alK75seLW'},\n",
       " {'id': '1336730011114598409', 'text': 'Who tf called for snow'},\n",
       " {'id': '1336730010686722051',\n",
       "  'text': 'Tap in y’all @prettyboyJonLuc LIVE SNOW &amp; VIBE https://t.co/ur8GSTA3LQ'},\n",
       " {'id': '1336730010300735489',\n",
       "  'text': '@littledoll31 It never rains here and snow only happens, usually only in the mountains'},\n",
       " {'id': '1336730010015690753',\n",
       "  'text': '@parsleysmum @dogdaysinitaly @OrchestraDog @NeddlePeddle @JoyceWallach @Darcie212 @Charlot31041072 @MadMaya5 @jamessbond20 @Linda11192874 @debrabyrne7 @daisymae31806 @daisy_pom I know. Me too. I got in trouble on my walk today because I kept boinging and yanking the leash. I love snow!😊'},\n",
       " {'id': '1336730007952035841',\n",
       "  'text': '@hopelybin he hasn’t gone out in the snow yet 🥺🥺'},\n",
       " {'id': '1336730007406862344',\n",
       "  'text': \"RT @Kayface77: I've always loved these paintings by Pieter Bruegel the Elder, both rendered in 1565.\\n\\nWinter Landscape With Skaters And A B…\"},\n",
       " {'id': '1336730006672666624',\n",
       "  'text': \"@SilverGreg78 Me when my Animal Crossing Village still hasn't received any snow.\"},\n",
       " {'id': '1336730002956627969',\n",
       "  'text': \"Trying to choose my festive viewing for tonight, I've got the Snowman followed by the Snowman &amp; Snow dog,  Jack Frost, Rudolph the Red-Nosed Reindeer or Twelve Days of Christmas.\\n#Christmas\"},\n",
       " {'id': '1336730002495246338',\n",
       "  'text': '📝🏠 Prepared your home for winter weather yet?  https://t.co/1cMXCW1weO\\n🍂 Clean drains and gutters\\n🚰 Insulate pipes/faucet\\n💦 Repair roof leaks\\n🌡️ Check heater, furnace &amp; chimney\\n🔋 Check batteries in CO/smoke detectors\\n🌬️ Check your door seals\\n🌨️ Prepare for snow removal https://t.co/16VokLisSa'},\n",
       " {'id': '1336730001480114176',\n",
       "  'text': 'i haven’t seen snow in like 5 years, i miss it so much:,(('},\n",
       " {'id': '1336730001362755584',\n",
       "  'text': 'RT @PuppyByuneeYT: วันนี้เมื่อ 7 ปีที่แล้ว อัลบั้มวินเทอร์อัลบั้มแรกของ EXO ได้ถือกำเนิดขึ้น \"Miracles In December\" \\n\\nและเพลงตำนานเหล่านี้…'},\n",
       " {'id': '1336730001069273092',\n",
       "  'text': '\"It\\'s snowing\" lol Northern noobs who needs snow when you can have warm weather 😎😎😎😎'},\n",
       " {'id': '1336729999659970565',\n",
       "  'text': 'to summarize, y’all love the snow and i’m freezing and have seasonal depression'},\n",
       " {'id': '1336729999626313728',\n",
       "  'text': '@sansculottestoo @beans_n_bops @IBeetman @RealDylanKnight @nice_learning @posting @sexy_robotnik @heckmanatee @NapoleonGroyper @circuspeanutss @hidIive @EGattignolo @leothotsky69420 @drbonertron @AntifaGroyper @AldousMartin091 @BobooTobian @TheClickPit @Starscape14 @a_bonarlaw @Christie_Malry @achtung_maybe @make_it_snow @zzzmisanthrope @AssuncionLopez @canadapoast @Elgritto1 @Angry_Time_Lord @ChrisFalconer16 @fireofthylove @FHHuntress @yagigote @MusclesQueen @GenXRadFem @dinahbrand2 @MaosLittleEGirl @Gooseberry_Stew @arthurfaeleith @VanKingoff @altuov @phnomfriend @lauraFWG @THATAllenCovert @TheoFisk @tbruceWU @haha_they @OfBinladen @GarbageGangHQ is it really need at this point'},\n",
       " {'id': '1336729997885763593',\n",
       "  'text': \"RT @LionKinEn: Tokyo Houkago - Snow\\nHope you guys like it ! All park is 20 image.\\nI'm want to say !  The Comic is so hard to do. XD\\nhttps:/…\"},\n",
       " {'id': '1336729997864808449',\n",
       "  'text': 'My magical snow baby https://t.co/aAaMiLKHZX'},\n",
       " {'id': '1336729997390864386',\n",
       "  'text': 'Daxter’s first snow since our move! ☃️❄️ Jak however is not a fan. https://t.co/6euIRRY9Rv'},\n",
       " {'id': '1336729997130805248', 'text': 'SNOW ❄️'},\n",
       " {'id': '1336729996346396672',\n",
       "  'text': \"Omg it's flurrying outside y'all, the snow is coming!! 😩😩\"},\n",
       " {'id': '1336729996287623169',\n",
       "  'text': '@Snow__2020_ 今グルチャ追加出来ないので、当日個人DMでおくります！'},\n",
       " {'id': '1336729995897679873',\n",
       "  'text': 'RT @BeschlossDC: Snow is now starting to fall in Washington DC.  Hope that frogs and lice are not next.'},\n",
       " {'id': '1336729992886169604',\n",
       "  'text': 'RT @TOXICLOV3: Snow is just a inconvenience as an adult .. I can honestly just do without it'},\n",
       " {'id': '1336729991938097152', 'text': '@adashbtw Snow'},\n",
       " {'id': '1336729991430737921', 'text': '@_berniceburgos Let it Snow Baby😍'},\n",
       " {'id': '1336729989845291008',\n",
       "  'text': '@nestquick6 The only time I like snow is when it gets me out of work, other than that it’s a nuisance lol'},\n",
       " {'id': '1336729988029063168',\n",
       "  'text': 'RT @jaehyunieuno: jaehyun knows he doesn’t need snow app https://t.co/j1YYnlVV66'},\n",
       " {'id': '1336729987131580420',\n",
       "  'text': 'This snow make me wanna go Christmas carol or sum'},\n",
       " {'id': '1336729986393403398',\n",
       "  'text': '@jilnotjill i will die upon this completely snow-free hill'},\n",
       " {'id': '1336729986074628099', 'text': 'i really don’t like snow .'},\n",
       " {'id': '1336729985680363521', 'text': 'THE SNOW IS SO PRETTY'},\n",
       " {'id': '1336729983792930817',\n",
       "  'text': 'RT @wanderer_08: FIRST SNOW OF WINTER IN JERSEY'},\n",
       " {'id': '1336729982173757440',\n",
       "  'text': \"RT @the_gurl_kai: Lol I asked Google if there was a chance of snow in my area. It said no, but it's snowing right in front of my face🤣\"},\n",
       " {'id': '1336729979049095173',\n",
       "  'text': \"@PerfectlyAight The kids are old enough to start shoveling. Mine are already raking leaves they aren't above moving snow\"},\n",
       " {'id': '1336729979036577795',\n",
       "  'text': 'RT @crissles: i know it’s december in nyc but I was not emotionally prepared to look out the window and see snow. 🥴'},\n",
       " {'id': '1336729978709348352',\n",
       "  'text': 'RT @demo_sticky: Happy holidays &lt;3\\nWho wants to make snow angels with her? :&gt;\\n#Christmas #pvz #oc https://t.co/GphMuvduan https://t.co/wwPl…'},\n",
       " {'id': '1336729977937649667',\n",
       "  'text': 'I’m not mentally ready for snow. I’m over this shit.'},\n",
       " {'id': '1336729977769893897', 'text': 'Tf the snow cone from'},\n",
       " {'id': '1336729977589551104',\n",
       "  'text': 'I know it’s winter , but snow ? Like seriously ? I can’t'},\n",
       " {'id': '1336729977484664832',\n",
       "  'text': 'Oh Mr. Snow, we meet again. https://t.co/6Z61Cbxlw5'},\n",
       " {'id': '1336729976754810883',\n",
       "  'text': 'RT @PositivelyBrie: Snow flurries in DC ❄️ \\n\\nCan you see them?\\n\\n#snow https://t.co/bpmzgnpDds'},\n",
       " {'id': '1336729976356229121',\n",
       "  'text': 'RT @shafei_d: Hamedan, one of the oldest cities of #Iran, is blanketed in snow https://t.co/ftfv5iE5aa'},\n",
       " {'id': '1336729973776920584',\n",
       "  'text': 'mujer preciosa deja de usar los filtros de snow mira lo bien que se te ve sin el whitewashing https://t.co/yqkqkvakzG'},\n",
       " {'id': '1336729973617434624',\n",
       "  'text': '@snow_skm75 こちらこそ〜♡♡\\nめっちゃ良い！初見では中々ハマらないけど←\\n知れば知るほど魅力的すぎる😂'},\n",
       " {'id': '1336729973567139852',\n",
       "  'text': 'I MISSED THE SNOW SO MUCH ARE U KIDDING'},\n",
       " {'id': '1336729972145156103',\n",
       "  'text': 'RT @BoulderCAST: WHO IS READY FOR SNOW? The lengthy warm &amp; sunny stretch wraps-up Wednesday with TWO snow events on the way\\n\\nRead our full…'},\n",
       " {'id': '1336729971478376458',\n",
       "  'text': \"@khfan1989 Glad you are liking it. Snow? I haven't seen snow in years. Job is going well. I am getting the hang of it. (◕ᴗ◕✿)\"},\n",
       " {'id': '1336729970815733762', 'text': 'SNOW ?!'},\n",
       " {'id': '1336729969742000128',\n",
       "  'text': 'No matter how old i get, the sight of snow always makes me feel warm inside...kinda of an oxymoron lol https://t.co/JzZcMMlnI1'},\n",
       " {'id': '1336729969238691841', 'text': 'does Snow have a taste'},\n",
       " {'id': '1336729968785698817',\n",
       "  'text': 'La primera nevadeta (o #flurries, com en diuen aquí) de la temporada a #NovaYork #NewYork #snow https://t.co/XcKjVAfV10'},\n",
       " {'id': '1336729967355453443',\n",
       "  'text': 'RT @scalzi: I regret to inform you that 2020 will not end until 12:01pm, January 20. Snow or no snow.'},\n",
       " {'id': '1336729966873075717', 'text': 'burn snow.'},\n",
       " {'id': '1336729962729103362',\n",
       "  'text': '@misakiraimo Ele sempre edita no snow kkk'},\n",
       " {'id': '1336729962607505411',\n",
       "  'text': 'RT @StRichardsHosp: We love this video of Helen 💙 We are thrilled to have been able to make her wish to see the snow a reality ❄️ #Worceste…'},\n",
       " {'id': '1336729962494242819',\n",
       "  'text': 'RT @nonbinaryjimin: vmin au #holigays2020 \\ntheme : snow ❄\\ncis woman jimin / trans woman taehyung \\n\\nJimin and Taehee are ex-friends and fanf…'},\n",
       " {'id': '1336729960313102336',\n",
       "  'text': '@JeremyCasts You got your snow :) https://t.co/SEZzPFHCaQ'},\n",
       " {'id': '1336729958060797955',\n",
       "  'text': 'RT @PoPville: Getting reports of some snow!!?!!\\n\\n#developing'},\n",
       " {'newest_id': '1336730049496686593',\n",
       "  'oldest_id': '1336729958060797955',\n",
       "  'result_count': 100,\n",
       "  'next_token': 'b26v89c19zqg8o3foseug1x38ctet9e8lrqefch7h6zct'}]"
      ]
     },
     "execution_count": 11,
     "metadata": {},
     "output_type": "execute_result"
    }
   ],
   "source": [
    "search_args = load_credentials(\"./twitter_keys.yaml\",\n",
    "                               yaml_key=\"search_tweets_v2\",\n",
    "                               env_overwrite=False)\n",
    "query = gen_request_parameters(\"snow\", results_per_call=100)\n",
    "\n",
    "\n",
    "tweets = collect_results(query,\n",
    "                         max_tweets=100,\n",
    "                         result_stream_args=search_args)\n",
    "\n",
    "tweets"
   ]
  },
  {
   "cell_type": "code",
   "execution_count": 7,
   "metadata": {
    "ExecuteTime": {
     "end_time": "2020-12-09T17:48:56.566648Z",
     "start_time": "2020-12-09T17:48:56.564048Z"
    }
   },
   "outputs": [],
   "source": []
  },
  {
   "cell_type": "code",
   "execution_count": null,
   "metadata": {},
   "outputs": [],
   "source": []
  },
  {
   "cell_type": "code",
   "execution_count": null,
   "metadata": {},
   "outputs": [],
   "source": []
  }
 ],
 "metadata": {
  "kernelspec": {
   "display_name": "Python 3",
   "language": "python",
   "name": "python3"
  },
  "language_info": {
   "codemirror_mode": {
    "name": "ipython",
    "version": 3
   },
   "file_extension": ".py",
   "mimetype": "text/x-python",
   "name": "python",
   "nbconvert_exporter": "python",
   "pygments_lexer": "ipython3",
   "version": "3.7.9"
  },
  "toc": {
   "base_numbering": 1,
   "nav_menu": {},
   "number_sections": false,
   "sideBar": true,
   "skip_h1_title": false,
   "title_cell": "Table of Contents",
   "title_sidebar": "Contents",
   "toc_cell": false,
   "toc_position": {},
   "toc_section_display": true,
   "toc_window_display": false
  },
  "varInspector": {
   "cols": {
    "lenName": 16,
    "lenType": 16,
    "lenVar": 40
   },
   "kernels_config": {
    "python": {
     "delete_cmd_postfix": "",
     "delete_cmd_prefix": "del ",
     "library": "var_list.py",
     "varRefreshCmd": "print(var_dic_list())"
    },
    "r": {
     "delete_cmd_postfix": ") ",
     "delete_cmd_prefix": "rm(",
     "library": "var_list.r",
     "varRefreshCmd": "cat(var_dic_list()) "
    }
   },
   "types_to_exclude": [
    "module",
    "function",
    "builtin_function_or_method",
    "instance",
    "_Feature"
   ],
   "window_display": false
  }
 },
 "nbformat": 4,
 "nbformat_minor": 4
}
