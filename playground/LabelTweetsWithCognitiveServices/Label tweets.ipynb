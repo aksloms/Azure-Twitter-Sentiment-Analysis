{
 "cells": [
  {
   "cell_type": "markdown",
   "metadata": {},
   "source": [
    "# Tweet processing\n",
    "\n",
    "Possible things to practice\n",
    "\n",
    "- get twee from que\n",
    "- clean tweet text\n",
    "- use cognitive services to lable tweet with sentiment\n",
    "- save tweet to table storage"
   ]
  },
  {
   "cell_type": "markdown",
   "metadata": {},
   "source": [
    "Load libraries"
   ]
  },
  {
   "cell_type": "code",
   "execution_count": 1,
   "metadata": {},
   "source": [
    "#r \"nuget:NetEscapades.Configuration.Yaml\"\n",
    "#r \"nuget:Azure.Storage.Queues\"\n",
    "#r \"nuget:Microsoft.Azure.CognitiveServices.Language.TextAnalytics,4.0.0\""
   ],
   "outputs": [
    {
     "output_type": "execute_result",
     "data": {
      "text/plain": "Installed package Microsoft.Azure.CognitiveServices.Language.TextAnalytics version 4.0.0"
     },
     "execution_count": 1,
     "metadata": {}
    },
    {
     "output_type": "execute_result",
     "data": {
      "text/plain": "Installed package NetEscapades.Configuration.Yaml version 2.1.0"
     },
     "execution_count": 1,
     "metadata": {}
    },
    {
     "output_type": "execute_result",
     "data": {
      "text/plain": "Installed package Azure.Storage.Queues version 12.5.0"
     },
     "execution_count": 1,
     "metadata": {}
    }
   ]
  },
  {
   "cell_type": "code",
   "execution_count": 1,
   "metadata": {},
   "source": [
    "using System;\n",
    "using System.Threading.Tasks;\n",
    "using System.Text.Json;\n",
    "using System.Text.Json.Serialization;\n",
    "using System.IO;\n",
    "using System.Collections.Generic;\n",
    "using System.Linq;"
   ],
   "outputs": []
  },
  {
   "cell_type": "markdown",
   "metadata": {},
   "source": [
    "## Clear sample tweet"
   ]
  },
  {
   "cell_type": "code",
   "execution_count": 1,
   "metadata": {},
   "source": [
    "public interface ITextMarker\n",
    "{\n",
    "    public int Start { get; set; }\n",
    "    public int End { get; set; }\n",
    "}\n",
    "\n",
    "public class HashtagMarker : ITextMarker\n",
    "{\n",
    "    public int Start { get; set; }\n",
    "    public int End { get; set; }\n",
    "    public string Tag { get; set; }\n",
    "}\n",
    "\n",
    "public class UrlMarker : ITextMarker\n",
    "{\n",
    "    public string DisplayUrl { get; set; }\n",
    "    public int End { get; set; }\n",
    "    public string ExpandedUrl { get; set; }\n",
    "    public int Start { get; set; }\n",
    "    public string Url { get; set; }\n",
    "    public string UnwoundUrl { get; set; }\n",
    "}\n",
    "\n",
    "public class Tweet\n",
    "{\n",
    "    public string SearchHashtag { get; set; }\n",
    "    public string Id { get; set; }\n",
    "    public string AuthorId { get; set; }\n",
    "    public DateTime CreatedAt { get; set; }\n",
    "    public IList<HashtagMarker> Hashtags { get; set; }\n",
    "    public IList<UrlMarker> Urls { get; set; }\n",
    "    public string Text { get; set; }\n",
    "}"
   ],
   "outputs": []
  },
  {
   "cell_type": "code",
   "execution_count": 1,
   "metadata": {},
   "source": [
    "var options = new JsonSerializerOptions {PropertyNameCaseInsensitive = true};\n",
    "var sampleTweet = JsonSerializer.Deserialize<Tweet>(File.ReadAllText(\"sampleTweet.json\"), options);\n",
    "sampleTweet.Text\n",
    ""
   ],
   "outputs": [
    {
     "output_type": "execute_result",
     "data": {
      "text/plain": "Szał Sylwestrowej Mody czyli Propozycja Nie Do Odrzucenia #AD2020 #NowyRok #2021 #Sylwester #Szampan #Party #Kwarantanna #COVID19 #Pidżama #Domówka https://t.co/F3GCmMpfms"
     },
     "execution_count": 1,
     "metadata": {}
    }
   ]
  },
  {
   "cell_type": "code",
   "execution_count": 1,
   "metadata": {},
   "source": [
    "// IEnumerable<ITextMarker> markersToRemove = (sampleTweet.Hashtags as IEnumerable<ITextMarker>)\n",
    "//     .Concat(sampleTweet.Hashtags as IEnumerable<ITextMarker>);\n",
    "\n",
    "var markersToRemove = sampleTweet.Hashtags.AsEnumerable<ITextMarker>()\n",
    "    .Concat(sampleTweet.Urls)\n",
    "    .OrderBy(m => m.Start);\n",
    "\n",
    "var builder = new StringBuilder(sampleTweet.Text.Count());\n",
    "var orginalText = sampleTweet.Text;\n",
    "var currentPostion = 0;\n",
    "foreach (var marker in markersToRemove)\n",
    "{\n",
    "    builder.Append(orginalText[currentPostion..marker.Start]);\n",
    "    currentPostion = marker.End;\n",
    "}\n",
    "\n",
    "builder.ToString()"
   ],
   "outputs": [
    {
     "output_type": "execute_result",
     "data": {
      "text/plain": "Szał Sylwestrowej Mody czyli Propozycja Nie Do Odrzucenia   #2021        "
     },
     "execution_count": 1,
     "metadata": {}
    }
   ]
  },
  {
   "cell_type": "code",
   "execution_count": 1,
   "metadata": {},
   "source": [
    "public string CleanTweetText(Tweet tweet)\n",
    "{\n",
    "    var markersToRemove = tweet.Hashtags.AsEnumerable<ITextMarker>()\n",
    "        .Concat(tweet.Urls)\n",
    "        .OrderBy(m => m.Start);\n",
    "\n",
    "    var builder = new StringBuilder(tweet.Text.Count());\n",
    "    var currentPostion = 0;\n",
    "    foreach (var marker in markersToRemove)\n",
    "    {\n",
    "        builder.Append(tweet.Text[currentPostion..marker.Start]);\n",
    "        currentPostion = marker.End;\n",
    "    }\n",
    "\n",
    "    return builder.ToString();\n",
    "}"
   ],
   "outputs": []
  },
  {
   "cell_type": "code",
   "execution_count": 1,
   "metadata": {},
   "source": [
    "Console.WriteLine(sampleTweet.Text);\n",
    "Console.WriteLine(CleanTweetText(sampleTweet));"
   ],
   "outputs": [
    {
     "output_type": "execute_result",
     "data": {
      "text/plain": "Szał Sylwestrowej Mody czyli Propozycja Nie Do Odrzucenia #AD2020 #NowyRok #2021 #Sylwester #Szampan #Party #Kwarantanna #COVID19 #Pidżama #Domówka https://t.co/F3GCmMpfms\n"
     },
     "execution_count": 1,
     "metadata": {}
    },
    {
     "output_type": "execute_result",
     "data": {
      "text/plain": "Szał Sylwestrowej Mody czyli Propozycja Nie Do Odrzucenia   #2021        \n"
     },
     "execution_count": 1,
     "metadata": {}
    }
   ]
  },
  {
   "cell_type": "markdown",
   "metadata": {},
   "source": [
    "## Analize the sentiment"
   ]
  },
  {
   "cell_type": "code",
   "execution_count": 1,
   "metadata": {},
   "source": [
    "using Microsoft.Extensions.Configuration;\n",
    "\n",
    "var config = new ConfigurationBuilder()\n",
    "    .AddYamlFile($\"{Directory.GetCurrentDirectory()}/appsettings.yml\")\n",
    "    .Build();\n",
    "\n",
    "var textAnalyticsConfig = config.GetSection(\"TextAnalytics\");"
   ],
   "outputs": []
  },
  {
   "cell_type": "code",
   "execution_count": 1,
   "metadata": {},
   "source": [
    "using System.Net.Http;\n",
    "using System.Threading;\n",
    "using Microsoft.Azure.CognitiveServices.Language.TextAnalytics;\n",
    "using Microsoft.Azure.CognitiveServices.Language.TextAnalytics.Models;\n",
    "using Microsoft.Rest;\n",
    "\n",
    "class ApiKeyServiceClientCredentials : ServiceClientCredentials\n",
    "{\n",
    "    private readonly string apiKey;\n",
    "\n",
    "    public ApiKeyServiceClientCredentials(string apiKey)\n",
    "    {\n",
    "        this.apiKey = apiKey;\n",
    "    }\n",
    "\n",
    "    public override Task ProcessHttpRequestAsync(HttpRequestMessage request, CancellationToken cancellationToken)\n",
    "    {\n",
    "        if (request == null)\n",
    "        {\n",
    "            throw new ArgumentNullException(\"request\");\n",
    "        }\n",
    "        request.Headers.Add(\"Ocp-Apim-Subscription-Key\", this.apiKey);\n",
    "        return base.ProcessHttpRequestAsync(request, cancellationToken);\n",
    "    }\n",
    "}"
   ],
   "outputs": []
  },
  {
   "cell_type": "code",
   "execution_count": 1,
   "metadata": {},
   "source": [
    "var credentials = new ApiKeyServiceClientCredentials(textAnalyticsConfig[\"ApiKey\"]);\n",
    "var client = new TextAnalyticsClient(credentials)\n",
    "{\n",
    "    Endpoint = textAnalyticsConfig[\"Endpoint\"]\n",
    "};"
   ],
   "outputs": []
  },
  {
   "cell_type": "code",
   "execution_count": 1,
   "metadata": {},
   "source": [
    "var result = client.Sentiment(\"I had the best day of my life.\", \"en\");\n",
    "Console.WriteLine($\"Sentiment Score: {result.Score:0.00}\");"
   ],
   "outputs": [
    {
     "output_type": "execute_result",
     "data": {
      "text/plain": "Sentiment Score: 0.87\n"
     },
     "execution_count": 1,
     "metadata": {}
    }
   ]
  },
  {
   "cell_type": "code",
   "execution_count": 1,
   "metadata": {},
   "source": [
    "Console.WriteLine(sampleTweet.Text);\n",
    "Console.WriteLine(CleanTweetText(sampleTweet));\n",
    "\n",
    "var result = client.Sentiment(CleanTweetText(sampleTweet), \"pl\");\n",
    "Console.WriteLine($\"Sentiment Score: {result.Score:0.00}\");"
   ],
   "outputs": [
    {
     "output_type": "execute_result",
     "data": {
      "text/plain": "Szał Sylwestrowej Mody czyli Propozycja Nie Do Odrzucenia #AD2020 #NowyRok #2021 #Sylwester #Szampan #Party #Kwarantanna #COVID19 #Pidżama #Domówka https://t.co/F3GCmMpfms\n"
     },
     "execution_count": 1,
     "metadata": {}
    },
    {
     "output_type": "execute_result",
     "data": {
      "text/plain": "Szał Sylwestrowej Mody czyli Propozycja Nie Do Odrzucenia   #2021        \n"
     },
     "execution_count": 1,
     "metadata": {}
    },
    {
     "output_type": "execute_result",
     "data": {
      "text/plain": "Sentiment Score: 0.82\n"
     },
     "execution_count": 1,
     "metadata": {}
    }
   ]
  }
 ],
 "metadata": {
  "kernelspec": {
   "display_name": ".NET (C#)",
   "language": "C#",
   "name": ".net-csharp"
  },
  "language_info": {
   "file_extension": ".cs",
   "mimetype": "text/x-csharp",
   "name": "C#",
   "pygments_lexer": "csharp",
   "version": "8.0"
  }
 },
 "nbformat": 4,
 "nbformat_minor": 4
}