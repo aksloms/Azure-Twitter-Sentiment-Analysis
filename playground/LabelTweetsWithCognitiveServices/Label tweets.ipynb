{
 "cells": [
  {
   "cell_type": "markdown",
   "metadata": {},
   "source": [
    "# Tweet processing\n",
    "\n",
    "Possible things to practice\n",
    "\n",
    "- get twee from que\n",
    "- clean tweet text\n",
    "- use cognitive services to lable tweet with sentiment\n",
    "- save tweet to table storage"
   ]
  },
  {
   "cell_type": "markdown",
   "metadata": {},
   "source": [
    "Load libraries"
   ]
  },
  {
   "cell_type": "code",
   "execution_count": 1,
   "metadata": {},
   "source": [
    "#r \"nuget:NetEscapades.Configuration.Yaml\"\n",
    "#r \"nuget:Azure.Storage.Queues\""
   ],
   "outputs": [
    {
     "output_type": "execute_result",
     "data": {
      "text/plain": "Installed package NetEscapades.Configuration.Yaml version 2.1.0"
     },
     "execution_count": 1,
     "metadata": {}
    },
    {
     "output_type": "execute_result",
     "data": {
      "text/plain": "Installed package Azure.Storage.Queues version 12.5.0"
     },
     "execution_count": 1,
     "metadata": {}
    }
   ]
  },
  {
   "cell_type": "code",
   "execution_count": 1,
   "metadata": {},
   "source": [
    "using System;\n",
    "using System.Threading.Tasks;\n",
    "using System.Text.Json;\n",
    "using System.Text.Json.Serialization;\n",
    "using System.IO;\n",
    "using System.Collections.Generic;\n",
    "using System.Linq;"
   ],
   "outputs": []
  },
  {
   "cell_type": "markdown",
   "metadata": {},
   "source": [
    "## Clear sample tweet"
   ]
  },
  {
   "cell_type": "code",
   "execution_count": 1,
   "metadata": {},
   "source": [
    "public interface ITextMarker\n",
    "{\n",
    "    public int Start { get; set; }\n",
    "    public int End { get; set; }\n",
    "}\n",
    "\n",
    "public class HashtagMarker : ITextMarker\n",
    "{\n",
    "    public int Start { get; set; }\n",
    "    public int End { get; set; }\n",
    "    public string Tag { get; set; }\n",
    "}\n",
    "\n",
    "public class UrlMarker : ITextMarker\n",
    "{\n",
    "    public string DisplayUrl { get; set; }\n",
    "    public int End { get; set; }\n",
    "    public string ExpandedUrl { get; set; }\n",
    "    public int Start { get; set; }\n",
    "    public string Url { get; set; }\n",
    "    public string UnwoundUrl { get; set; }\n",
    "}\n",
    "\n",
    "public class Tweet\n",
    "{\n",
    "    public string SearchHashtag { get; set; }\n",
    "    public string Id { get; set; }\n",
    "    public string AuthorId { get; set; }\n",
    "    public DateTime CreatedAt { get; set; }\n",
    "    public IList<HashtagMarker> Hashtags { get; set; }\n",
    "    public IList<UrlMarker> Urls { get; set; }\n",
    "    public string Text { get; set; }\n",
    "}"
   ],
   "outputs": []
  },
  {
   "cell_type": "code",
   "execution_count": 1,
   "metadata": {},
   "source": [
    "var options = new JsonSerializerOptions {PropertyNameCaseInsensitive = true};\n",
    "var sampleTweet = JsonSerializer.Deserialize<Tweet>(File.ReadAllText(\"sampleTweet.json\"), options);\n",
    "sampleTweet.Text\n",
    ""
   ],
   "outputs": [
    {
     "output_type": "execute_result",
     "data": {
      "text/plain": "Szał Sylwestrowej Mody czyli Propozycja Nie Do Odrzucenia #AD2020 #NowyRok #2021 #Sylwester #Szampan #Party #Kwarantanna #COVID19 #Pidżama #Domówka https://t.co/F3GCmMpfms"
     },
     "execution_count": 1,
     "metadata": {}
    }
   ]
  },
  {
   "cell_type": "code",
   "execution_count": 1,
   "metadata": {},
   "source": [
    "markersToRemove"
   ],
   "outputs": [
    {
     "output_type": "execute_result",
     "data": {
      "text/html": "<table><thead><tr><th><i>index</i></th><th><i>type</i></th><th>Start</th><th>End</th><th>Tag</th><th>DisplayUrl</th><th>ExpandedUrl</th><th>Url</th><th>UnwoundUrl</th></tr></thead><tbody><tr><td>0</td><td>Submission#19+HashtagMarker</td><td><div class=\"dni-plaintext\">58</div></td><td><div class=\"dni-plaintext\">65</div></td><td><div class=\"dni-plaintext\">AD2020</div></td><td></td><td></td><td></td><td></td></tr><tr><td>1</td><td>Submission#19+HashtagMarker</td><td><div class=\"dni-plaintext\">66</div></td><td><div class=\"dni-plaintext\">74</div></td><td><div class=\"dni-plaintext\">NowyRok</div></td><td></td><td></td><td></td><td></td></tr><tr><td>2</td><td>Submission#19+HashtagMarker</td><td><div class=\"dni-plaintext\">81</div></td><td><div class=\"dni-plaintext\">91</div></td><td><div class=\"dni-plaintext\">Sylwester</div></td><td></td><td></td><td></td><td></td></tr><tr><td>3</td><td>Submission#19+HashtagMarker</td><td><div class=\"dni-plaintext\">92</div></td><td><div class=\"dni-plaintext\">100</div></td><td><div class=\"dni-plaintext\">Szampan</div></td><td></td><td></td><td></td><td></td></tr><tr><td>4</td><td>Submission#19+HashtagMarker</td><td><div class=\"dni-plaintext\">101</div></td><td><div class=\"dni-plaintext\">107</div></td><td><div class=\"dni-plaintext\">Party</div></td><td></td><td></td><td></td><td></td></tr><tr><td>5</td><td>Submission#19+HashtagMarker</td><td><div class=\"dni-plaintext\">108</div></td><td><div class=\"dni-plaintext\">120</div></td><td><div class=\"dni-plaintext\">Kwarantanna</div></td><td></td><td></td><td></td><td></td></tr><tr><td>6</td><td>Submission#19+HashtagMarker</td><td><div class=\"dni-plaintext\">121</div></td><td><div class=\"dni-plaintext\">129</div></td><td><div class=\"dni-plaintext\">COVID19</div></td><td></td><td></td><td></td><td></td></tr><tr><td>7</td><td>Submission#19+HashtagMarker</td><td><div class=\"dni-plaintext\">130</div></td><td><div class=\"dni-plaintext\">138</div></td><td><div class=\"dni-plaintext\">Pidżama</div></td><td></td><td></td><td></td><td></td></tr><tr><td>8</td><td>Submission#19+HashtagMarker</td><td><div class=\"dni-plaintext\">139</div></td><td><div class=\"dni-plaintext\">147</div></td><td><div class=\"dni-plaintext\">Dom&#243;wka</div></td><td></td><td></td><td></td><td></td></tr><tr><td>9</td><td>Submission#19+UrlMarker</td><td><div class=\"dni-plaintext\">148</div></td><td><div class=\"dni-plaintext\">171</div></td><td></td><td><div class=\"dni-plaintext\">minddrone.wordpress.com/2020/12/30/sza…</div></td><td><div class=\"dni-plaintext\">https://minddrone.wordpress.com/2020/12/30/szal-sylwestrowej-mody-czyli-mistrz-i-malgorzata-ad2020-2021/</div></td><td><div class=\"dni-plaintext\">https://t.co/F3GCmMpfms</div></td><td><div class=\"dni-plaintext\">&lt;null&gt;</div></td></tr></tbody></table>"
     },
     "execution_count": 1,
     "metadata": {}
    }
   ]
  },
  {
   "cell_type": "code",
   "execution_count": 1,
   "metadata": {},
   "source": [
    "// IEnumerable<ITextMarker> markersToRemove = (sampleTweet.Hashtags as IEnumerable<ITextMarker>)\n",
    "//     .Concat(sampleTweet.Hashtags as IEnumerable<ITextMarker>);\n",
    "\n",
    "var markersToRemove = sampleTweet.Hashtags.AsEnumerable<ITextMarker>()\n",
    "    .Concat(sampleTweet.Urls)\n",
    "    .OrderBy(m => m.Start);\n",
    "\n",
    "var builder = new StringBuilder(sampleTweet.Text.Count());\n",
    "var orginalText = sampleTweet.Text;\n",
    "var currentPostion = 0;\n",
    "foreach (var marker in markersToRemove)\n",
    "{\n",
    "    builder.Append(orginalText[currentPostion..marker.Start]);\n",
    "    currentPostion = marker.End;\n",
    "}\n",
    "\n",
    "builder.ToString()"
   ],
   "outputs": [
    {
     "output_type": "execute_result",
     "data": {
      "text/plain": "Szał Sylwestrowej Mody czyli Propozycja Nie Do Odrzucenia   #2021        "
     },
     "execution_count": 1,
     "metadata": {}
    }
   ]
  },
  {
   "cell_type": "code",
   "execution_count": 1,
   "metadata": {},
   "source": [
    "public string CleanTweetText(Tweet tweet)\n",
    "{\n",
    "    var markersToRemove = tweet.Hashtags.AsEnumerable<ITextMarker>()\n",
    "        .Concat(tweet.Urls)\n",
    "        .OrderBy(m => m.Start);\n",
    "\n",
    "    var builder = new StringBuilder(tweet.Text.Count());\n",
    "    var currentPostion = 0;\n",
    "    foreach (var marker in markersToRemove)\n",
    "    {\n",
    "        builder.Append(tweet.Text[currentPostion..marker.Start]);\n",
    "        currentPostion = marker.End;\n",
    "    }\n",
    "\n",
    "    return builder.ToString();\n",
    "}"
   ],
   "outputs": []
  },
  {
   "cell_type": "code",
   "execution_count": 1,
   "metadata": {},
   "source": [
    "Console.WriteLine(sampleTweet.Text);\n",
    "Console.WriteLine(CleanTweetText(sampleTweet));"
   ],
   "outputs": [
    {
     "output_type": "execute_result",
     "data": {
      "text/plain": "Szał Sylwestrowej Mody czyli Propozycja Nie Do Odrzucenia #AD2020 #NowyRok #2021 #Sylwester #Szampan #Party #Kwarantanna #COVID19 #Pidżama #Domówka https://t.co/F3GCmMpfms\n"
     },
     "execution_count": 1,
     "metadata": {}
    },
    {
     "output_type": "execute_result",
     "data": {
      "text/plain": "Szał Sylwestrowej Mody czyli Propozycja Nie Do Odrzucenia   #2021        \n"
     },
     "execution_count": 1,
     "metadata": {}
    }
   ]
  }
 ],
 "metadata": {
  "kernelspec": {
   "display_name": ".NET (C#)",
   "language": "C#",
   "name": ".net-csharp"
  },
  "language_info": {
   "file_extension": ".cs",
   "mimetype": "text/x-csharp",
   "name": "C#",
   "pygments_lexer": "csharp",
   "version": "8.0"
  }
 },
 "nbformat": 4,
 "nbformat_minor": 4
}