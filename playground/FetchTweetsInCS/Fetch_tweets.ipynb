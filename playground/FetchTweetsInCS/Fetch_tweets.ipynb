{
 "cells": [
  {
   "cell_type": "markdown",
   "metadata": {},
   "source": [
    "# Interactive .Net notebook to test Twitter API"
   ]
  },
  {
   "cell_type": "code",
   "execution_count": 1,
   "metadata": {},
   "source": [
    "Console.WriteLine(\"Hi C#\");"
   ],
   "outputs": [
    {
     "output_type": "execute_result",
     "data": {
      "text/plain": "Hi C#\n"
     },
     "execution_count": 1,
     "metadata": {}
    }
   ]
  },
  {
   "cell_type": "markdown",
   "metadata": {},
   "source": [
    "Import libraries"
   ]
  },
  {
   "cell_type": "code",
   "execution_count": 1,
   "metadata": {},
   "source": [
    "#r \"nuget:System.Text.Json\"\n",
    "#r \"nuget:TweetinviAPI\"\n",
    "#r \"nuget:Microsoft.Extensions.Configuration\"\n",
    "#r \"nuget:Microsoft.Extensions.Configuration.Binder\"\n",
    "#r \"nuget:Microsoft.Extensions.Configuration.Yaml,*-*\"\n",
    ""
   ],
   "outputs": [
    {
     "output_type": "execute_result",
     "data": {
      "text/plain": "Installed package Microsoft.Extensions.Configuration.Binder version 5.0.0"
     },
     "execution_count": 1,
     "metadata": {}
    }
   ]
  },
  {
   "cell_type": "markdown",
   "metadata": {},
   "source": [
    "Load configuration"
   ]
  },
  {
   "cell_type": "code",
   "execution_count": 1,
   "metadata": {},
   "source": [
    "public class TwitterApiConfig\n",
    "{\n",
    "    public string ConsumerKey { get; set; }\n",
    "    public string ConsumerSecret { get; set; }\n",
    "    public string BearerToken { get; set; }\n",
    "}"
   ],
   "outputs": []
  },
  {
   "cell_type": "code",
   "execution_count": 1,
   "metadata": {},
   "source": [
    "using System.IO;\n",
    "using Microsoft.Extensions.Configuration;\n",
    "using Microsoft.Extensions.Configuration.Yaml;\n",
    "\n",
    "var config = new ConfigurationBuilder()\n",
    "    .AddYamlFile($\"{Directory.GetCurrentDirectory()}/appsettings.yml\").Build();\n",
    "\n",
    "var twitterApiConfig = new TwitterApiConfig();\n",
    "config.GetSection(\"twitterApi\").Bind(twitterApiConfig);"
   ],
   "outputs": []
  },
  {
   "cell_type": "code",
   "execution_count": 1,
   "metadata": {},
   "source": [
    ""
   ],
   "outputs": []
  }
 ],
 "metadata": {
  "kernelspec": {
   "display_name": ".NET (C#)",
   "language": "C#",
   "name": ".net-csharp"
  },
  "language_info": {
   "file_extension": ".cs",
   "mimetype": "text/x-csharp",
   "name": "C#",
   "pygments_lexer": "csharp",
   "version": "8.0"
  }
 },
 "nbformat": 4,
 "nbformat_minor": 4
}