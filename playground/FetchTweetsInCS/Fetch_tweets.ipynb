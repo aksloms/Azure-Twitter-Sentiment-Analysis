{
 "cells": [
  {
   "cell_type": "markdown",
   "metadata": {},
   "source": [
    "# Interactive .Net notebook to test Twitter API"
   ]
  },
  {
   "cell_type": "code",
   "execution_count": 1,
   "metadata": {},
   "source": [
    "Console.WriteLine(\"Hi C#\");"
   ],
   "outputs": [
    {
     "output_type": "execute_result",
     "data": {
      "text/plain": "Hi C#\n"
     },
     "execution_count": 1,
     "metadata": {}
    }
   ]
  },
  {
   "cell_type": "markdown",
   "metadata": {},
   "source": [
    "Import libraries"
   ]
  },
  {
   "cell_type": "code",
   "execution_count": 1,
   "metadata": {},
   "source": [
    "#r \"nuget:System.Text.Json\"\n",
    "#r \"nuget:TweetinviAPI\"\n",
    "#r \"nuget:Microsoft.Extensions.Configuration\"\n",
    "#r \"nuget:Microsoft.Extensions.Configuration.Binder\"\n",
    "#r \"nuget:Microsoft.Extensions.Configuration.Yaml,*-*\"\n",
    ""
   ],
   "outputs": [
    {
     "output_type": "execute_result",
     "data": {
      "text/plain": "Installed package Microsoft.Extensions.Configuration.Binder version 5.0.0"
     },
     "execution_count": 1,
     "metadata": {}
    }
   ]
  },
  {
   "cell_type": "markdown",
   "metadata": {},
   "source": [
    "Load configuration"
   ]
  },
  {
   "cell_type": "code",
   "execution_count": 1,
   "metadata": {},
   "source": [
    "public class TwitterApiConfig\n",
    "{\n",
    "    public string ConsumerKey { get; set; }\n",
    "    public string ConsumerSecret { get; set; }\n",
    "    public string BearerToken { get; set; }\n",
    "}"
   ],
   "outputs": []
  },
  {
   "cell_type": "code",
   "execution_count": 1,
   "metadata": {},
   "source": [
    "using System.IO;\n",
    "using Microsoft.Extensions.Configuration;\n",
    "using Microsoft.Extensions.Configuration.Yaml;\n",
    "\n",
    "var config = new ConfigurationBuilder()\n",
    "    .AddYamlFile($\"{Directory.GetCurrentDirectory()}/appsettings.yml\").Build();\n",
    "\n",
    "var twitterApiConfig = new TwitterApiConfig();\n",
    "config.GetSection(\"twitterApi\").Bind(twitterApiConfig);"
   ],
   "outputs": []
  },
  {
   "cell_type": "markdown",
   "metadata": {},
   "source": [
    "Fetch tweets"
   ]
  },
  {
   "cell_type": "code",
   "execution_count": 1,
   "metadata": {},
   "source": [
    "using Tweetinvi;\n",
    "using Tweetinvi.Models;"
   ],
   "outputs": []
  },
  {
   "cell_type": "code",
   "execution_count": 1,
   "metadata": {},
   "source": [
    "// Extension method for fun :p\n",
    "public static ConsumerOnlyCredentials LoadCredentials(\n",
    "        this ConsumerOnlyCredentials credentials,\n",
    "        TwitterApiConfig config\n",
    "        )\n",
    "    => new ConsumerOnlyCredentials(config.ConsumerKey, config.ConsumerSecret)\n",
    "        {\n",
    "            BearerToken = config.BearerToken\n",
    "        };\n",
    "        "
   ],
   "outputs": []
  },
  {
   "cell_type": "code",
   "execution_count": 1,
   "metadata": {},
   "source": [
    "var appCredentials = new ConsumerOnlyCredentials().LoadCredentials(twitterApiConfig);\n",
    "var client = new TwitterClient(appCredentials);"
   ],
   "outputs": []
  },
  {
   "cell_type": "code",
   "execution_count": 1,
   "metadata": {},
   "source": [
    "var searchResponse = await client.SearchV2.SearchTweetsAsync(\"hello\");\n",
    ""
   ],
   "outputs": []
  },
  {
   "cell_type": "code",
   "execution_count": 1,
   "metadata": {},
   "source": [
    "using Tweetinvi.Parameters.V2;\n",
    "\n",
    "var searchParams = new SearchTweetsV2Parameters(\"#home\")\n",
    "{\n",
    "    StartTime = DateTime.UtcNow.AddMinutes(-5)\n",
    "};\n",
    "\n",
    "(await client.SearchV2.SearchTweetsAsync(searchParams))\n",
    "    .Tweets.Select(t => t.Text)"
   ],
   "outputs": [
    {
     "output_type": "execute_result",
     "data": {
      "text/html": "<table><thead><tr><th><i>index</i></th><th>value</th></tr></thead><tbody><tr><td>0</td><td><div class=\"dni-plaintext\">Hottest Home Design Trends of 2020 | Miramonte Homes\n\nhttps://t.co/fQJi35QisB \n\n#arizona #home #newhome https://t.co/ICaTGaWy9N</div></td></tr><tr><td>1</td><td><div class=\"dni-plaintext\">Protecting your investment in an EPDM rubber roof involves two main components: proper installation and adequate maintenance. Receive a free estimate by visiting our website today:\nhttps://t.co/vG4p6RfnW9\n.\n.\n. \n#Roof #House #Housing #Roofing #Business #Home #Gutter https://t.co/5vqG7iB3Th</div></td></tr><tr><td>2</td><td><div class=\"dni-plaintext\">RT @Easy_Property: Condo indoor pool as well as an on-site coffee shop Kata Phuket: Located in Kata Beach, Kata Residence offers a self-cat…</div></td></tr><tr><td>3</td><td><div class=\"dni-plaintext\">RT @Easy_Property: Are the Holidays a Good Time To Buy Property?: The winter months, especially around the holidays, are a prime time to bu…</div></td></tr><tr><td>4</td><td><div class=\"dni-plaintext\">RT @Easy_Property: Luxury Villa in Kalim, Phuket, Thailand: The panoramic sea view that can be admired from Phuket’s Kalim hillside is just…</div></td></tr><tr><td>5</td><td><div class=\"dni-plaintext\">RT @Easy_Property: 4 bed 5 bathroom pool villa in Chalong Phuket: We can now offer this beautiful 4 bed 5 bathroom pool villa for rent or s…</div></td></tr><tr><td>6</td><td><div class=\"dni-plaintext\">RT @Easy_Property: Luxurious Sea view beach pool villa in Mai Khao Phuket: West Sands Villa for Sale A luxurious Sea view beach villa with…</div></td></tr><tr><td>7</td><td><div class=\"dni-plaintext\">&#127796;☀ CONDO  FOR SALE 1 BED 1 BATH 700 SqFt &#127968; ONLY $84 900 ☀  LAUDERHILL ☀\n______\n☛ MORE PHOTOS&amp;amp;INFO: https://t.co/p61hJ5Efyh ☚\n CALL US: 754 235 03780\n_______\n#HOME #HOUSE #CONDO #CONDOMINIUM #FLORIDA #REALESTATE #REALESTATEAGENT #MYHOUSEFLORIDA #INVESTMENT #SUNNYFLORIDA https://t.co/GXyJHm7q68</div></td></tr><tr><td>8</td><td><div class=\"dni-plaintext\">When it comes to your next #remodeling project, the sky&#39;s the limit with Crystal Cabinets! There are no limitations to how we can customize products to meet your needs; we are here to help you create your dream #home. \n\nFind inspiration here: \nhttps://t.co/Ei14zjCgEK https://t.co/B8fjEgpuAV</div></td></tr><tr><td>9</td><td><div class=\"dni-plaintext\">merry christmas from marlboro country #natale 20xx #natale #cincinbutei #home #relax #pic #family #capture #amazing #fire #smile #beard #beardstyle #atmosphere #atmosferanatalizia #verona #italia #bere https://t.co/wcjAPQFLkZ</div></td></tr><tr><td>10</td><td><div class=\"dni-plaintext\">RT @HomeAdore: House V by Martinskoček\n\nhttps://t.co/xwPFyut3QU\n\n#decoration #interiordesign #home #architecture https://t.co/i69tkPhcGX</div></td></tr><tr><td>11</td><td><div class=\"dni-plaintext\">RT @LacrosseMom23: Moving to the Carolinas? We get all 4 seasons here! Spectacular newly #renovated Charlotte #home for sale. #Amenities at…</div></td></tr><tr><td>12</td><td><div class=\"dni-plaintext\">We are now closed due to COVID tier 4 restrictions until further notice. We would like to thank all our customers for your support and we hope to see you in the new year when we are allowed to open again. #home #norfolk #suffolk https://t.co/ErggaShvab</div></td></tr><tr><td>13</td><td><div class=\"dni-plaintext\">#Merry #Christmas!#May #God #showers #your #life #with #unlimited #blessings #on #this #day \n    ✨ ⛪ &#128171; \n#Happy #Mary #Christmas #wishes \n #for #my #dear #friends #and #stay #safe #home @MusicThaman \n #Brother #im #your #BIG #BIG #fan  \nI&#39;m waiting for your all updates https://t.co/AXhkPeLf3w</div></td></tr><tr><td>14</td><td><div class=\"dni-plaintext\">RT @willtravers: #ChristmasEveEve #ChristmasEve2020 A message of profound appreciation from my Mum, #VirginiaMcKenna to which I add my hear…</div></td></tr><tr><td>15</td><td><div class=\"dni-plaintext\">RT @ArtDikaya: Did you just miss me ? \n\n#White #home #modeling #onlyfans #girl https://t.co/RgTp2ycx7b</div></td></tr><tr><td>16</td><td><div class=\"dni-plaintext\">#home&#128591;❤️ @ Mapate Block3 https://t.co/PTe25Jn5Ow</div></td></tr><tr><td>17</td><td><div class=\"dni-plaintext\">RT @Easy_Property: Sixth property of determinant simple property JEE &amp;amp;amp; KCET: In this video explained Sixth property of determinant simp…</div></td></tr><tr><td>18</td><td><div class=\"dni-plaintext\">RT @Easy_Property: Condo indoor pool as well as an on-site coffee shop Kata Phuket: Located in Kata Beach, Kata Residence offers a self-cat…</div></td></tr><tr><td>19</td><td><div class=\"dni-plaintext\">RT @Easy_Property: Are the Holidays a Good Time To Buy Property?: The winter months, especially around the holidays, are a prime time to bu…</div></td></tr><tr><td colspan=\"2\">(80 more)</td></tr></tbody></table>"
     },
     "execution_count": 1,
     "metadata": {}
    }
   ]
  },
  {
   "cell_type": "code",
   "execution_count": 1,
   "metadata": {},
   "source": [
    "searchResponse.Tweets.Select(t => t.Text)"
   ],
   "outputs": [
    {
     "output_type": "execute_result",
     "data": {
      "text/html": "<table><thead><tr><th><i>index</i></th><th>value</th></tr></thead><tbody><tr><td>0</td><td><div class=\"dni-plaintext\">@weluvchelin @themahnetea Girl hello you saying allat like Che didn’t use to watch Erick too like be fair.</div></td></tr><tr><td>1</td><td><div class=\"dni-plaintext\">RT @moricalliope: Hello, Dead Beats.\nI had been working hard on the song I mentioned before. However, I have just been told that due to rea…</div></td></tr><tr><td>2</td><td><div class=\"dni-plaintext\">RT @SpiderCluster: Hello guys\n\n3DAYS TO SALMANs BDAY</div></td></tr><tr><td>3</td><td><div class=\"dni-plaintext\">@tbzsnw HELLO?!?!?!(!)?</div></td></tr><tr><td>4</td><td><div class=\"dni-plaintext\">@multistrayed_ hello po! hindi tayo gano’n ka-close pero gusto ko lang malaman mo na i appreciate you so much&#129402; sana (kahit papaano) maganda ‘yung naging takbo ng 2020 mo. thank you for making other people happy. god bless you and happy holidays☺️&#128150;   @shaminguin @mbbstruggletwts @djhwone 193</div></td></tr><tr><td>5</td><td><div class=\"dni-plaintext\">RT @PramodC32186814: Hello MY favourite HEARTIEST SUPERSTAR @sucherita_k BOSS &#128150;&#128150;&#128522; Awwwwwwwww&#128149;&#128149; Hayee AAJKA look awessomme&#129392;&#129392;&#129392;&#129392; looks verryyy…</div></td></tr><tr><td>6</td><td><div class=\"dni-plaintext\">RT @moonchildminaa: hello does anyone know where can i get these type of cakes that delivers to shah alam area &#129402;</div></td></tr><tr><td>7</td><td><div class=\"dni-plaintext\">RT @galleliblubelli: #มุกเสี่ยวเกี้ยวกลัฟ\n\nHello @gulfkanawut  I&#39;m Thief and I&#39;m here to steal Ur heart https://t.co/u5RIt2R1fb</div></td></tr><tr><td>8</td><td><div class=\"dni-plaintext\">Hello fans ya sexy ass nice is going on live on Snapchat &#128571; Don&#39;t know what to do hit the follow &#127825; to get  DM &#128536; https://t.co/7c2NQWADab</div></td></tr><tr><td>9</td><td><div class=\"dni-plaintext\">@itisthehormones Sana kunin na sya ni santa(nas) &#129315; Joke lang. (Hello, Jesus! &#128513;)\n\nHappy holidays, doc!</div></td></tr><tr><td>10</td><td><div class=\"dni-plaintext\">RT @winmside: @SMTownEngSub @BrightWinEngSub OMG HELLO\n\n@winmetawin #winmetawin https://t.co/yMHLlY6819</div></td></tr><tr><td>11</td><td><div class=\"dni-plaintext\">RT @dojarabbit: Hello, someone just paid for 3 and asked that I give people who need it in Ibadan. Please if you&#39;re in Ibadan and you genui…</div></td></tr><tr><td>12</td><td><div class=\"dni-plaintext\">RT @hellotacha: HELLO QUEEN OF OUR HEARTS @Symply_Tacha &#128305;&#128305;\n\n#TachaBDayBash\n#QueenTDay\n#HappyBirthdayTacha\n#BigTacha25\n#Tacha https://t.co/j…</div></td></tr><tr><td>13</td><td><div class=\"dni-plaintext\">@parsnipfish hello jrouse</div></td></tr><tr><td>14</td><td><div class=\"dni-plaintext\">RT @BharadwajSpeaks: Hello. I have recently been missing in action on social media as professional commitments have been keeping me engaged…</div></td></tr><tr><td>15</td><td><div class=\"dni-plaintext\">@spicyfoxlady Hello baby &#128151;</div></td></tr><tr><td>16</td><td><div class=\"dni-plaintext\">@elisewindle Hello Elise! For security reasons, could you please confirm your full name, your order number, your email address, the first line of the billing address and the postcode you used when placing the order and I will take a look at your order. Thanks, Catalin.</div></td></tr><tr><td>17</td><td><div class=\"dni-plaintext\">RT @doIIyIove: Hello. https://t.co/smfVfZkBi0</div></td></tr><tr><td>18</td><td><div class=\"dni-plaintext\">@neuerwtf Hello 11 yr old</div></td></tr><tr><td>19</td><td><div class=\"dni-plaintext\">HELLO SA SA SAKURAS AND KAY KWEEN YASMIN HAHAHAHDKSHFKSHJSHS</div></td></tr><tr><td colspan=\"2\">(80 more)</td></tr></tbody></table>"
     },
     "execution_count": 1,
     "metadata": {}
    }
   ]
  }
 ],
 "metadata": {
  "kernelspec": {
   "display_name": ".NET (C#)",
   "language": "C#",
   "name": ".net-csharp"
  },
  "language_info": {
   "file_extension": ".cs",
   "mimetype": "text/x-csharp",
   "name": "C#",
   "pygments_lexer": "csharp",
   "version": "8.0"
  }
 },
 "nbformat": 4,
 "nbformat_minor": 4
}