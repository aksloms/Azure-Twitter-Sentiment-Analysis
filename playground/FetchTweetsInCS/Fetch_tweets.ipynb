{
 "cells": [
  {
   "cell_type": "markdown",
   "metadata": {},
   "source": [
    "# Interactive .Net notebook to test Twitter API"
   ]
  },
  {
   "cell_type": "code",
   "execution_count": 1,
   "metadata": {},
   "source": [
    "Console.WriteLine(\"Hi C#\");"
   ],
   "outputs": [
    {
     "output_type": "execute_result",
     "data": {
      "text/plain": "Hi C#\n"
     },
     "execution_count": 1,
     "metadata": {}
    }
   ]
  },
  {
   "cell_type": "markdown",
   "metadata": {},
   "source": [
    "Import libraries"
   ]
  },
  {
   "cell_type": "code",
   "execution_count": 1,
   "metadata": {},
   "source": [
    "#r \"nuget:System.Text.Json\"\n",
    "#r \"nuget:TweetinviAPI\"\n",
    "#r \"nuget:Microsoft.Extensions.Configuration\"\n",
    "#r \"nuget:Microsoft.Extensions.Configuration.Binder\"\n",
    "#r \"nuget:Microsoft.Extensions.Configuration.Yaml,*-*\"\n",
    "#r \"nuget:Microsoft.Azure.Cosmos.Table\""
   ],
   "outputs": [
    {
     "output_type": "execute_result",
     "data": {
      "text/plain": "Installed package Microsoft.Azure.Cosmos.Table version 1.0.8"
     },
     "execution_count": 1,
     "metadata": {}
    }
   ]
  },
  {
   "cell_type": "markdown",
   "metadata": {},
   "source": [
    "Load configuration"
   ]
  },
  {
   "cell_type": "code",
   "execution_count": 1,
   "metadata": {},
   "source": [
    "public class TwitterApiConfig\n",
    "{\n",
    "    public string ConsumerKey { get; set; }\n",
    "    public string ConsumerSecret { get; set; }\n",
    "    public string BearerToken { get; set; }\n",
    "}"
   ],
   "outputs": []
  },
  {
   "cell_type": "code",
   "execution_count": 1,
   "metadata": {},
   "source": [
    "using System.IO;\n",
    "using Microsoft.Extensions.Configuration;\n",
    "using Microsoft.Extensions.Configuration.Yaml;\n",
    "\n",
    "var config = new ConfigurationBuilder()\n",
    "    .AddYamlFile($\"{Directory.GetCurrentDirectory()}/appsettings.yml\").Build();\n",
    "\n",
    "var twitterApiConfig = new TwitterApiConfig();\n",
    "config.GetSection(\"twitterApi\").Bind(twitterApiConfig);"
   ],
   "outputs": []
  },
  {
   "cell_type": "markdown",
   "metadata": {},
   "source": [
    "Fetch tweets"
   ]
  },
  {
   "cell_type": "code",
   "execution_count": 1,
   "metadata": {},
   "source": [
    "using Tweetinvi;\n",
    "using Tweetinvi.Models;"
   ],
   "outputs": []
  },
  {
   "cell_type": "code",
   "execution_count": 1,
   "metadata": {},
   "source": [
    "// Extension method for fun :p\n",
    "public static ConsumerOnlyCredentials LoadCredentials(\n",
    "        this ConsumerOnlyCredentials credentials,\n",
    "        TwitterApiConfig config\n",
    "        )\n",
    "    => new ConsumerOnlyCredentials(config.ConsumerKey, config.ConsumerSecret)\n",
    "        {\n",
    "            BearerToken = config.BearerToken\n",
    "        };\n",
    "        "
   ],
   "outputs": []
  },
  {
   "cell_type": "code",
   "execution_count": 1,
   "metadata": {},
   "source": [
    "var appCredentials = new ConsumerOnlyCredentials().LoadCredentials(twitterApiConfig);\n",
    "var client = new TwitterClient(appCredentials);"
   ],
   "outputs": []
  },
  {
   "cell_type": "code",
   "execution_count": 1,
   "metadata": {},
   "source": [
    "var searchResponse = await client.SearchV2.SearchTweetsAsync(\"#snow\");\n",
    ""
   ],
   "outputs": []
  },
  {
   "cell_type": "code",
   "execution_count": 1,
   "metadata": {},
   "source": [
    "using Tweetinvi.Parameters.V2;\n",
    "\n",
    "var searchParams = new SearchTweetsV2Parameters(\"#home\")\n",
    "{\n",
    "    StartTime = DateTime.UtcNow.AddMinutes(-5)\n",
    "};\n",
    "\n",
    "(await client.SearchV2.SearchTweetsAsync(searchParams))\n",
    "    .Tweets.Select(t => t.Text)"
   ],
   "outputs": [
    {
     "output_type": "execute_result",
     "data": {
      "text/html": "<table><thead><tr><th><i>index</i></th><th>value</th></tr></thead><tbody><tr><td>0</td><td><div class=\"dni-plaintext\">Men Hoodies Sweatshirt Casual Men Tops 2018Winter O neck plus size for male https://t.co/ZQAMg1lA3p\n#fashion|#tech|#home|#lifestyle https://t.co/o8tZRwasmH</div></td></tr><tr><td>1</td><td><div class=\"dni-plaintext\">RT @Gamer_Chris1987: Guten morgen meine Freunde, wie habt ihr geschlafen? Wie war gestern euer Abend? Und allen #FroheWeihnachten \n\n#Twitch…</div></td></tr><tr><td>2</td><td><div class=\"dni-plaintext\">5 Styles Wire Perch Bird Cage With 4 Casters With Open Skylight Home Balcony Courtyard Bird Cage FR\n\nhttps://t.co/Dhr3iO5fdd\n\nPrice: €35.0EUR\nShipping: €10.0EUR\n\n#cheap #petaccessorie #Pets #birdcage #Bird #portablebirdcage #petbird #Home #wirebirdcage https://t.co/Rjz3iXdiK0</div></td></tr><tr><td>3</td><td><div class=\"dni-plaintext\">RT @brennan_elliott: #home #daddy time with the babies after #quarantine #happyholidays2020 everyone! https://t.co/jYXDVJKVRc</div></td></tr><tr><td>4</td><td><div class=\"dni-plaintext\">RT @AnxietyPath: #horse #countryliving\n\nSometimes #home is a place;\nSometimes, its only a feeling!\n\n#anxietypath https://t.co/N8XLNfWHC0</div></td></tr><tr><td>5</td><td><div class=\"dni-plaintext\">RT @SandiOPhoto: https://t.co/k2XPc66JAB Artwork For Sale &quot;A Gazebo Over The Lake In Fall&quot; https://t.co/wNnqzw5Zom Availabl in #wallart #ho…</div></td></tr><tr><td>6</td><td><div class=\"dni-plaintext\">RT @BbcMostly: Home boy &#127814;&#128069;&#128293; #Amateur #Babe #BigDick #Blondie #HDPorn #Hardcore #ff #Pornstar #SmallTits #Teen #Black #PetiteTeen #BBC #ff #…</div></td></tr><tr><td>7</td><td><div class=\"dni-plaintext\">Mannheim German map Poster Canvas Painting Print Wall Art Home Decor No Frame\n\nhttps://t.co/fCNPj7BKc9\n\nPrice: €11.0EUR\nShipping: €3.0EUR\n\n#cheap #canvasoilpainting #citymap #art #Posters #Canvas #Home #Decor #acorunaspain #Print #painting https://t.co/Ih0PKJ8Mvn</div></td></tr><tr><td>8</td><td><div class=\"dni-plaintext\">@HomeIconUK #home #icon</div></td></tr><tr><td>9</td><td><div class=\"dni-plaintext\">RT @adefilaadeyinka: Let the spirit of love gently fill our hearts and homes.\n\nIn this loveliest of seasons may you find many reasons for h…</div></td></tr><tr><td>10</td><td><div class=\"dni-plaintext\">RT @asortiemobilya: Ge&#231;mişin Zarafetini Yaşatarak\nGeleceğin Antikalarını &#220;retiyoruz!\n\n#AsortieMobilya #asortiefurniture #handmade #interior…</div></td></tr><tr><td>11</td><td><div class=\"dni-plaintext\">Moving #home costs are now so high: #StampDuty, #EstateAgent fees etc people are #Refinancing to expand #properties! https://t.co/oy5qhe2WYu</div></td></tr><tr><td>12</td><td><div class=\"dni-plaintext\">RT @ArtDikaya: Did you just miss me ? \n\n#White #home #modeling #onlyfans #girl https://t.co/RgTp2ycx7b</div></td></tr><tr><td>13</td><td><div class=\"dni-plaintext\">&quot;God will give you peace to help you through the storm&quot;.\n&#120288;&#120306;&#120319;&#120319;&#120326; &#120278;&#120309;&#120319;&#120310;&#120320;&#120321;&#120314;&#120302;&#120320;\n#christmaslights #season #christmaspresent #lights #santa #christmasgift #today #list #song #work #home #gifts #holiday #merry #merrychristmas #christmastree #christmas #love #christmasparty https://t.co/1lZH75Q1FO</div></td></tr><tr><td>14</td><td><div class=\"dni-plaintext\">Let the spirit of love gently fill our hearts and homes.\n\nIn this loveliest of seasons may you find many reasons for happiness \n\nMerry Christmas.\n\n #family #home #realestate #happiness #christmas2020 #christmas https://t.co/jgG9mlV6pj</div></td></tr><tr><td>15</td><td><div class=\"dni-plaintext\">RT @SleekDeals: &#128293; Wow! Biggest Savings on Amazon! Brand new Echo Show 5 for $10\n\n#homesecurity #home #deals #security #ring #holidays #vide…</div></td></tr><tr><td>16</td><td><div class=\"dni-plaintext\">Ge&#231;mişin Zarafetini Yaşatarak\nGeleceğin Antikalarını &#220;retiyoruz!\n\n#AsortieMobilya #asortiefurniture #handmade #interiordesign #luxuryhome #decoration #furnituredesign #luxurylifestyle #homedesign #designinspiration #homesweethome #decoration #art #decor #love #design #home https://t.co/o2FBi2SGDL</div></td></tr><tr><td>17</td><td><div class=\"dni-plaintext\">[855] #Kassa Sonoff #Inbouw #WiFi Wandschakelaar #Smart #Home | 2 Kanalen | 2 x 400W | Smart #Switch met Touch of Telefoon App. https://t.co/m7l0YMDA6r https://t.co/uancEcet3o</div></td></tr></tbody></table>"
     },
     "execution_count": 1,
     "metadata": {}
    }
   ]
  },
  {
   "cell_type": "code",
   "execution_count": 1,
   "metadata": {},
   "source": [
    "searchResponse.Tweets.Select(t => t.Text)"
   ],
   "outputs": [
    {
     "output_type": "execute_result",
     "data": {
      "text/html": "<table><thead><tr><th><i>index</i></th><th>value</th></tr></thead><tbody><tr><td>0</td><td><div class=\"dni-plaintext\">@weluvchelin @themahnetea Girl hello you saying allat like Che didn’t use to watch Erick too like be fair.</div></td></tr><tr><td>1</td><td><div class=\"dni-plaintext\">RT @moricalliope: Hello, Dead Beats.\nI had been working hard on the song I mentioned before. However, I have just been told that due to rea…</div></td></tr><tr><td>2</td><td><div class=\"dni-plaintext\">RT @SpiderCluster: Hello guys\n\n3DAYS TO SALMANs BDAY</div></td></tr><tr><td>3</td><td><div class=\"dni-plaintext\">@tbzsnw HELLO?!?!?!(!)?</div></td></tr><tr><td>4</td><td><div class=\"dni-plaintext\">@multistrayed_ hello po! hindi tayo gano’n ka-close pero gusto ko lang malaman mo na i appreciate you so much&#129402; sana (kahit papaano) maganda ‘yung naging takbo ng 2020 mo. thank you for making other people happy. god bless you and happy holidays☺️&#128150;   @shaminguin @mbbstruggletwts @djhwone 193</div></td></tr><tr><td>5</td><td><div class=\"dni-plaintext\">RT @PramodC32186814: Hello MY favourite HEARTIEST SUPERSTAR @sucherita_k BOSS &#128150;&#128150;&#128522; Awwwwwwwww&#128149;&#128149; Hayee AAJKA look awessomme&#129392;&#129392;&#129392;&#129392; looks verryyy…</div></td></tr><tr><td>6</td><td><div class=\"dni-plaintext\">RT @moonchildminaa: hello does anyone know where can i get these type of cakes that delivers to shah alam area &#129402;</div></td></tr><tr><td>7</td><td><div class=\"dni-plaintext\">RT @galleliblubelli: #มุกเสี่ยวเกี้ยวกลัฟ\n\nHello @gulfkanawut  I&#39;m Thief and I&#39;m here to steal Ur heart https://t.co/u5RIt2R1fb</div></td></tr><tr><td>8</td><td><div class=\"dni-plaintext\">Hello fans ya sexy ass nice is going on live on Snapchat &#128571; Don&#39;t know what to do hit the follow &#127825; to get  DM &#128536; https://t.co/7c2NQWADab</div></td></tr><tr><td>9</td><td><div class=\"dni-plaintext\">@itisthehormones Sana kunin na sya ni santa(nas) &#129315; Joke lang. (Hello, Jesus! &#128513;)\n\nHappy holidays, doc!</div></td></tr><tr><td>10</td><td><div class=\"dni-plaintext\">RT @winmside: @SMTownEngSub @BrightWinEngSub OMG HELLO\n\n@winmetawin #winmetawin https://t.co/yMHLlY6819</div></td></tr><tr><td>11</td><td><div class=\"dni-plaintext\">RT @dojarabbit: Hello, someone just paid for 3 and asked that I give people who need it in Ibadan. Please if you&#39;re in Ibadan and you genui…</div></td></tr><tr><td>12</td><td><div class=\"dni-plaintext\">RT @hellotacha: HELLO QUEEN OF OUR HEARTS @Symply_Tacha &#128305;&#128305;\n\n#TachaBDayBash\n#QueenTDay\n#HappyBirthdayTacha\n#BigTacha25\n#Tacha https://t.co/j…</div></td></tr><tr><td>13</td><td><div class=\"dni-plaintext\">@parsnipfish hello jrouse</div></td></tr><tr><td>14</td><td><div class=\"dni-plaintext\">RT @BharadwajSpeaks: Hello. I have recently been missing in action on social media as professional commitments have been keeping me engaged…</div></td></tr><tr><td>15</td><td><div class=\"dni-plaintext\">@spicyfoxlady Hello baby &#128151;</div></td></tr><tr><td>16</td><td><div class=\"dni-plaintext\">@elisewindle Hello Elise! For security reasons, could you please confirm your full name, your order number, your email address, the first line of the billing address and the postcode you used when placing the order and I will take a look at your order. Thanks, Catalin.</div></td></tr><tr><td>17</td><td><div class=\"dni-plaintext\">RT @doIIyIove: Hello. https://t.co/smfVfZkBi0</div></td></tr><tr><td>18</td><td><div class=\"dni-plaintext\">@neuerwtf Hello 11 yr old</div></td></tr><tr><td>19</td><td><div class=\"dni-plaintext\">HELLO SA SA SAKURAS AND KAY KWEEN YASMIN HAHAHAHDKSHFKSHJSHS</div></td></tr><tr><td colspan=\"2\">(80 more)</td></tr></tbody></table>"
     },
     "execution_count": 1,
     "metadata": {}
    }
   ]
  },
  {
   "cell_type": "markdown",
   "metadata": {},
   "source": [
    "Test serialization"
   ]
  },
  {
   "cell_type": "code",
   "execution_count": 1,
   "metadata": {},
   "source": [
    "using System.Text.Json;\n",
    "\n",
    "display(JsonSerializer.Serialize(new {hashtag = \"#snow\"}));\n",
    "JsonSerializer.Serialize((hashtag: \"#snow\", text: \"It's white\"))\n",
    ""
   ],
   "outputs": [
    {
     "output_type": "execute_result",
     "data": {
      "text/plain": "{\"hashtag\":\"#snow\"}"
     },
     "execution_count": 1,
     "metadata": {}
    },
    {
     "output_type": "execute_result",
     "data": {
      "text/plain": "{}"
     },
     "execution_count": 1,
     "metadata": {}
    }
   ]
  },
  {
   "cell_type": "code",
   "execution_count": 1,
   "metadata": {},
   "source": [
    "tweets[0].Entities.Hashtags"
   ],
   "outputs": [
    {
     "output_type": "execute_result",
     "data": {
      "text/html": "<table><thead><tr><th><i>index</i></th><th>Start</th><th>End</th><th>Tag</th></tr></thead><tbody><tr><td>0</td><td><div class=\"dni-plaintext\">125</div></td><td><div class=\"dni-plaintext\">142</div></td><td><div class=\"dni-plaintext\">surpriseholidays</div></td></tr><tr><td>1</td><td><div class=\"dni-plaintext\">143</div></td><td><div class=\"dni-plaintext\">160</div></td><td><div class=\"dni-plaintext\">winterwonderland</div></td></tr><tr><td>2</td><td><div class=\"dni-plaintext\">161</div></td><td><div class=\"dni-plaintext\">168</div></td><td><div class=\"dni-plaintext\">winter</div></td></tr><tr><td>3</td><td><div class=\"dni-plaintext\">169</div></td><td><div class=\"dni-plaintext\">174</div></td><td><div class=\"dni-plaintext\">snow</div></td></tr><tr><td>4</td><td><div class=\"dni-plaintext\">175</div></td><td><div class=\"dni-plaintext\">180</div></td><td><div class=\"dni-plaintext\">cold</div></td></tr><tr><td>5</td><td><div class=\"dni-plaintext\">181</div></td><td><div class=\"dni-plaintext\">188</div></td><td><div class=\"dni-plaintext\">quilts</div></td></tr><tr><td>6</td><td><div class=\"dni-plaintext\">189</div></td><td><div class=\"dni-plaintext\">194</div></td><td><div class=\"dni-plaintext\">warm</div></td></tr><tr><td>7</td><td><div class=\"dni-plaintext\">195</div></td><td><div class=\"dni-plaintext\">200</div></td><td><div class=\"dni-plaintext\">cozy</div></td></tr><tr><td>8</td><td><div class=\"dni-plaintext\">201</div></td><td><div class=\"dni-plaintext\">220</div></td><td><div class=\"dni-plaintext\">interiordecoration</div></td></tr><tr><td>9</td><td><div class=\"dni-plaintext\">221</div></td><td><div class=\"dni-plaintext\">236</div></td><td><div class=\"dni-plaintext\">interiordesign</div></td></tr><tr><td>10</td><td><div class=\"dni-plaintext\">237</div></td><td><div class=\"dni-plaintext\">247</div></td><td><div class=\"dni-plaintext\">architect</div></td></tr><tr><td>11</td><td><div class=\"dni-plaintext\">248</div></td><td><div class=\"dni-plaintext\">257</div></td><td><div class=\"dni-plaintext\">designer</div></td></tr><tr><td>12</td><td><div class=\"dni-plaintext\">258</div></td><td><div class=\"dni-plaintext\">276</div></td><td><div class=\"dni-plaintext\">surprisehomelinen</div></td></tr></tbody></table>"
     },
     "execution_count": 1,
     "metadata": {}
    }
   ]
  },
  {
   "cell_type": "code",
   "execution_count": 1,
   "metadata": {},
   "source": [
    "var tweets = searchResponse.Tweets;\n",
    "\n",
    "JsonSerializer.Serialize(tweets[0])"
   ],
   "outputs": [
    {
     "output_type": "execute_result",
     "data": {
      "text/plain": "{\"Attachments\":{\"MediaKeys\":[\"3_1342383997511340035\"],\"PollIds\":null},\"AuthorId\":\"1294183852328411136\",\"ContextAnnotations\":[{\"Domain\":{\"Description\":\"Top level interests and hobbies groupings, like Food or Travel\",\"Id\":\"65\",\"Name\":\"Interests and Hobbies Vertical\"},\"Entity\":{\"Description\":\"Hobbies and interests\",\"Id\":\"847868745150119936\",\"Name\":\"Home \\u0026 family\"}},{\"Domain\":{\"Description\":\"A grouping of interests and hobbies entities, like Novelty Food or Destinations\",\"Id\":\"66\",\"Name\":\"Interests and Hobbies Category\"},\"Entity\":{\"Description\":\"Design\",\"Id\":\"847872720331079681\",\"Name\":\"Design\"}}],\"ConversationId\":\"1342384001248600066\",\"CreatedAt\":\"2020-12-25T08:17:40+00:00\",\"Entities\":{\"Annotations\":null,\"Cashtags\":null,\"Hashtags\":[{\"Start\":125,\"End\":142,\"Tag\":\"surpriseholidays\"},{\"Start\":143,\"End\":160,\"Tag\":\"winterwonderland\"},{\"Start\":161,\"End\":168,\"Tag\":\"winter\"},{\"Start\":169,\"End\":174,\"Tag\":\"snow\"},{\"Start\":175,\"End\":180,\"Tag\":\"cold\"},{\"Start\":181,\"End\":188,\"Tag\":\"quilts\"},{\"Start\":189,\"End\":194,\"Tag\":\"warm\"},{\"Start\":195,\"End\":200,\"Tag\":\"cozy\"},{\"Start\":201,\"End\":220,\"Tag\":\"interiordecoration\"},{\"Start\":221,\"End\":236,\"Tag\":\"interiordesign\"},{\"Start\":237,\"End\":247,\"Tag\":\"architect\"},{\"Start\":248,\"End\":257,\"Tag\":\"designer\"},{\"Start\":258,\"End\":276,\"Tag\":\"surprisehomelinen\"}],\"Mentions\":null,\"Urls\":[{\"DisplayUrl\":\"shop.surpriselinen.com\",\"End\":123,\"ExpandedUrl\":\"http://shop.surpriselinen.com\",\"Start\":100,\"Url\":\"https://t.co/QenU1r1tJA\",\"UnwoundUrl\":null},{\"DisplayUrl\":\"pic.twitter.com/p0RQuS5ZPZ\",\"End\":300,\"ExpandedUrl\":\"https://twitter.com/HomeSurprise/status/1342384001248600066/photo/1\",\"Start\":277,\"Url\":\"https://t.co/p0RQuS5ZPZ\",\"UnwoundUrl\":null}]},\"Geo\":null,\"Id\":\"1342384001248600066\",\"InReplyToUserId\":null,\"Lang\":\"en\",\"PossiblySensitive\":false,\"ReferencedTweets\":null,\"Source\":\"Twitter for Android\",\"Text\":\"Screen printed voile\\u0027s that are hand filled with soft cotton and are hand-quilted.\\n\\nShop with us at\\nhttps://t.co/QenU1r1tJA\\n\\n#surpriseholidays #winterwonderland #winter #snow #cold #quilts #warm #cozy #interiordecoration #interiordesign #architect #designer #surprisehomelinen https://t.co/p0RQuS5ZPZ\",\"Withheld\":null,\"NonPublicMetrics\":null,\"OrganicMetrics\":null,\"PromotedMetrics\":null,\"PublicMetrics\":{\"LikeCount\":0,\"QuoteCount\":0,\"ReplyCount\":0,\"RetweetCount\":0}}"
     },
     "execution_count": 1,
     "metadata": {}
    }
   ]
  },
  {
   "cell_type": "code",
   "execution_count": 1,
   "metadata": {},
   "source": [
    "var tweet = searchResponse.Tweets[0];\n",
    "\n",
    "JsonSerializer.Serialize(new\n",
    "    {\n",
    "        SearchHashtag = \"#snow\",\n",
    "        tweet.Id,\n",
    "        tweet.AuthorId,\n",
    "        tweet.CreatedAt,\n",
    "        tweet.Entities.Hashtags,\n",
    "        tweet.Entities.Urls,\n",
    "        tweet.Text\n",
    "    }, new JsonSerializerOptions{PropertyNamingPolicy = JsonNamingPolicy.CamelCase}\n",
    "    )"
   ],
   "outputs": [
    {
     "output_type": "execute_result",
     "data": {
      "text/plain": "{\"searchHashtag\":\"#snow\",\"id\":\"1342384001248600066\",\"authorId\":\"1294183852328411136\",\"createdAt\":\"2020-12-25T08:17:40+00:00\",\"hashtags\":[{\"start\":125,\"end\":142,\"tag\":\"surpriseholidays\"},{\"start\":143,\"end\":160,\"tag\":\"winterwonderland\"},{\"start\":161,\"end\":168,\"tag\":\"winter\"},{\"start\":169,\"end\":174,\"tag\":\"snow\"},{\"start\":175,\"end\":180,\"tag\":\"cold\"},{\"start\":181,\"end\":188,\"tag\":\"quilts\"},{\"start\":189,\"end\":194,\"tag\":\"warm\"},{\"start\":195,\"end\":200,\"tag\":\"cozy\"},{\"start\":201,\"end\":220,\"tag\":\"interiordecoration\"},{\"start\":221,\"end\":236,\"tag\":\"interiordesign\"},{\"start\":237,\"end\":247,\"tag\":\"architect\"},{\"start\":248,\"end\":257,\"tag\":\"designer\"},{\"start\":258,\"end\":276,\"tag\":\"surprisehomelinen\"}],\"urls\":[{\"displayUrl\":\"shop.surpriselinen.com\",\"end\":123,\"expandedUrl\":\"http://shop.surpriselinen.com\",\"start\":100,\"url\":\"https://t.co/QenU1r1tJA\",\"unwoundUrl\":null},{\"displayUrl\":\"pic.twitter.com/p0RQuS5ZPZ\",\"end\":300,\"expandedUrl\":\"https://twitter.com/HomeSurprise/status/1342384001248600066/photo/1\",\"start\":277,\"url\":\"https://t.co/p0RQuS5ZPZ\",\"unwoundUrl\":null}],\"text\":\"Screen printed voile\\u0027s that are hand filled with soft cotton and are hand-quilted.\\n\\nShop with us at\\nhttps://t.co/QenU1r1tJA\\n\\n#surpriseholidays #winterwonderland #winter #snow #cold #quilts #warm #cozy #interiordecoration #interiordesign #architect #designer #surprisehomelinen https://t.co/p0RQuS5ZPZ\"}"
     },
     "execution_count": 1,
     "metadata": {}
    }
   ]
  },
  {
   "cell_type": "markdown",
   "metadata": {},
   "source": [
    "Learn how async foreach works"
   ]
  },
  {
   "cell_type": "code",
   "execution_count": 1,
   "metadata": {},
   "source": [
    "DateTime.Now.ToLongTimeString()"
   ],
   "outputs": [
    {
     "output_type": "execute_result",
     "data": {
      "text/plain": "13:04:30"
     },
     "execution_count": 1,
     "metadata": {}
    }
   ]
  },
  {
   "cell_type": "code",
   "execution_count": 1,
   "metadata": {},
   "source": [
    "using System.Threading.Tasks;\n",
    "\n",
    "public async Task<string> StartLogTask()\n",
    "{\n",
    "    var startTime = DateTime.Now;\n",
    "    await Task.Delay(2_000);\n",
    "    var endTime = DateTime.Now;\n",
    "\n",
    "    return $\"Run from: {startTime.ToLongTimeString()} to: {endTime.ToLongTimeString()}\";\n",
    "}"
   ],
   "outputs": []
  },
  {
   "cell_type": "code",
   "execution_count": 1,
   "metadata": {},
   "source": [
    "// Current project solution\n",
    "var tasks = Enumerable.Range(0, 5)\n",
    "    .Select(_ => StartLogTask())\n",
    "    .ToList();\n",
    "\n",
    "foreach (var task in tasks)\n",
    "{\n",
    "    display(await task);\n",
    "}"
   ],
   "outputs": [
    {
     "output_type": "execute_result",
     "data": {
      "text/plain": "Run from: 13:14:49 to: 13:14:51"
     },
     "execution_count": 1,
     "metadata": {}
    },
    {
     "output_type": "execute_result",
     "data": {
      "text/plain": "Run from: 13:14:49 to: 13:14:51"
     },
     "execution_count": 1,
     "metadata": {}
    },
    {
     "output_type": "execute_result",
     "data": {
      "text/plain": "Run from: 13:14:49 to: 13:14:51"
     },
     "execution_count": 1,
     "metadata": {}
    },
    {
     "output_type": "execute_result",
     "data": {
      "text/plain": "Run from: 13:14:49 to: 13:14:51"
     },
     "execution_count": 1,
     "metadata": {}
    },
    {
     "output_type": "execute_result",
     "data": {
      "text/plain": "Run from: 13:14:49 to: 13:14:51"
     },
     "execution_count": 1,
     "metadata": {}
    }
   ]
  },
  {
   "cell_type": "code",
   "execution_count": 1,
   "metadata": {},
   "source": [
    "// Lazy enumerated\n",
    "var tasks = Enumerable.Range(0, 5)\n",
    "    .Select(_ => StartLogTask());\n",
    "\n",
    "foreach (var task in tasks)\n",
    "{\n",
    "    display(await task);\n",
    "}"
   ],
   "outputs": [
    {
     "output_type": "execute_result",
     "data": {
      "text/plain": "Run from: 13:14:46 to: 13:14:48"
     },
     "execution_count": 1,
     "metadata": {}
    },
    {
     "output_type": "execute_result",
     "data": {
      "text/plain": "Run from: 13:14:48 to: 13:14:50"
     },
     "execution_count": 1,
     "metadata": {}
    },
    {
     "output_type": "execute_result",
     "data": {
      "text/plain": "Run from: 13:14:50 to: 13:14:52"
     },
     "execution_count": 1,
     "metadata": {}
    },
    {
     "output_type": "execute_result",
     "data": {
      "text/plain": "Run from: 13:14:52 to: 13:14:54"
     },
     "execution_count": 1,
     "metadata": {}
    },
    {
     "output_type": "execute_result",
     "data": {
      "text/plain": "Run from: 13:14:54 to: 13:14:56"
     },
     "execution_count": 1,
     "metadata": {}
    }
   ]
  },
  {
   "cell_type": "code",
   "execution_count": 1,
   "metadata": {},
   "source": [
    "// Try out await foreach\n",
    "public async IAsyncEnumerable<string> GenerateChainedResults(int count)\n",
    "{\n",
    "    for (int i = 0; i < count; i++)\n",
    "    {\n",
    "        yield return await StartLogTask();\n",
    "    }\n",
    "}\n",
    "\n",
    "await foreach(var result in GenerateChainedResults(5))\n",
    "{\n",
    "    display(result);\n",
    "}"
   ],
   "outputs": [
    {
     "output_type": "execute_result",
     "data": {
      "text/plain": "Run from: 13:20:07 to: 13:20:09"
     },
     "execution_count": 1,
     "metadata": {}
    },
    {
     "output_type": "execute_result",
     "data": {
      "text/plain": "Run from: 13:20:09 to: 13:20:11"
     },
     "execution_count": 1,
     "metadata": {}
    },
    {
     "output_type": "execute_result",
     "data": {
      "text/plain": "Run from: 13:20:11 to: 13:20:13"
     },
     "execution_count": 1,
     "metadata": {}
    },
    {
     "output_type": "execute_result",
     "data": {
      "text/plain": "Run from: 13:20:13 to: 13:20:15"
     },
     "execution_count": 1,
     "metadata": {}
    },
    {
     "output_type": "execute_result",
     "data": {
      "text/plain": "Run from: 13:20:15 to: 13:20:17"
     },
     "execution_count": 1,
     "metadata": {}
    }
   ]
  },
  {
   "cell_type": "code",
   "execution_count": 1,
   "metadata": {},
   "source": [
    "// Parallel run with await foreach\n",
    "public async IAsyncEnumerable<string> GenerateChainedResults(int count)\n",
    "{\n",
    "    var tasks = Enumerable.Range(0, count)\n",
    "        .Select(_ => StartLogTask())\n",
    "        .ToList();\n",
    "\n",
    "    foreach (var task in tasks)\n",
    "    {\n",
    "        yield return await task;\n",
    "    }\n",
    "}\n",
    "\n",
    "await foreach(var result in GenerateChainedResults(5))\n",
    "{\n",
    "    display(result);\n",
    "}"
   ],
   "outputs": [
    {
     "output_type": "execute_result",
     "data": {
      "text/plain": "Run from: 13:21:52 to: 13:21:54"
     },
     "execution_count": 1,
     "metadata": {}
    },
    {
     "output_type": "execute_result",
     "data": {
      "text/plain": "Run from: 13:21:52 to: 13:21:54"
     },
     "execution_count": 1,
     "metadata": {}
    },
    {
     "output_type": "execute_result",
     "data": {
      "text/plain": "Run from: 13:21:52 to: 13:21:54"
     },
     "execution_count": 1,
     "metadata": {}
    },
    {
     "output_type": "execute_result",
     "data": {
      "text/plain": "Run from: 13:21:52 to: 13:21:54"
     },
     "execution_count": 1,
     "metadata": {}
    },
    {
     "output_type": "execute_result",
     "data": {
      "text/plain": "Run from: 13:21:52 to: 13:21:54"
     },
     "execution_count": 1,
     "metadata": {}
    }
   ]
  },
  {
   "cell_type": "markdown",
   "metadata": {},
   "source": [
    "## Table storage\n",
    "\n",
    "Learn how to use Azure Table Storage"
   ]
  },
  {
   "cell_type": "code",
   "execution_count": 1,
   "metadata": {},
   "source": [
    "using Microsoft.Azure.Cosmos.Table;\n",
    "using Microsoft.Azure.Documents;\n",
    "\n",
    "\n",
    "var storageAccount = CloudStorageAccount.Parse(config.GetConnectionString(\"TableStorage\"));\n",
    "var tableClient = storageAccount.CreateCloudTableClient(new TableClientConfiguration() {});"
   ],
   "outputs": []
  },
  {
   "cell_type": "code",
   "execution_count": 1,
   "metadata": {},
   "source": [
    "public class LastTweetIdEntity : TableEntity\n",
    "{\n",
    "    public LastTweetIdEntity() \n",
    "    {\n",
    "    }\n",
    "\n",
    "    public LastTweetIdEntity(string hashtag)\n",
    "    {\n",
    "        PartitionKey = hashtag;\n",
    "        RowKey = hashtag;\n",
    "    }\n",
    "\n",
    "    public string NewestId { get; set; }\n",
    "}"
   ],
   "outputs": []
  },
  {
   "cell_type": "code",
   "execution_count": 1,
   "metadata": {},
   "source": [
    "var table = tableClient.GetTableReference(\"LastTweetForHashtag\");\n",
    "await table.CreateIfNotExistsAsync();"
   ],
   "outputs": []
  },
  {
   "cell_type": "code",
   "execution_count": 1,
   "metadata": {},
   "source": [
    "var entity = new LastTweetIdEntity(\"coal\") {NewestId = \"1234\"};\n",
    "var insertOperation = TableOperation.InsertOrReplace(entity);\n",
    "var result = await table.ExecuteAsync(insertOperation);\n",
    "\n",
    "var insertedEntity = result.Result as LastTweetIdEntity;\n",
    "display(result.RequestCharge.HasValue);\n",
    "insertedEntity"
   ],
   "outputs": [
    {
     "output_type": "execute_result",
     "data": {
      "text/html": "<div class=\"dni-plaintext\">False</div>"
     },
     "execution_count": 1,
     "metadata": {}
    },
    {
     "output_type": "execute_result",
     "data": {
      "text/html": "<table><thead><tr><th>NewestId</th><th>PartitionKey</th><th>RowKey</th><th>Timestamp</th><th>ETag</th></tr></thead><tbody><tr><td><div class=\"dni-plaintext\">1234</div></td><td><div class=\"dni-plaintext\">coal</div></td><td><div class=\"dni-plaintext\">coal</div></td><td><span>0001-01-01 00:00:00Z</span></td><td><div class=\"dni-plaintext\">W/&quot;datetime&#39;2020-12-25T17%3A29%3A21.3397601Z&#39;&quot;</div></td></tr></tbody></table>"
     },
     "execution_count": 1,
     "metadata": {}
    }
   ]
  },
  {
   "cell_type": "code",
   "execution_count": 1,
   "metadata": {},
   "source": [
    "var result = await table.ExecuteAsync(\n",
    "    TableOperation.Retrieve<LastTweetIdEntity>(\"cake\", \"cake\")\n",
    ");\n",
    "\n",
    "display(result.RequestCharge.HasValue);\n",
    "var value = result.Result as LastTweetIdEntity;\n",
    "display(value);"
   ],
   "outputs": [
    {
     "output_type": "execute_result",
     "data": {
      "text/html": "<div class=\"dni-plaintext\">False</div>"
     },
     "execution_count": 1,
     "metadata": {}
    },
    {
     "output_type": "execute_result",
     "data": {
      "text/html": "<div class=\"dni-plaintext\">&lt;null&gt;</div>"
     },
     "execution_count": 1,
     "metadata": {}
    }
   ]
  },
  {
   "cell_type": "markdown",
   "metadata": {},
   "source": [
    "# Work with paginated tweeter response"
   ]
  },
  {
   "cell_type": "code",
   "execution_count": 1,
   "metadata": {},
   "source": [
    "using Tweetinvi;\n",
    "using Tweetinvi.Models;\n",
    "using Tweetinvi.Models.V2;\n",
    "using Tweetinvi.Parameters.V2;\n",
    "\n",
    "var appCredentials = new ConsumerOnlyCredentials().LoadCredentials(twitterApiConfig);\n",
    "var client = new TwitterClient(appCredentials);"
   ],
   "outputs": []
  },
  {
   "cell_type": "code",
   "execution_count": 1,
   "metadata": {},
   "source": [
    "var query = \"#mtg\";\n",
    "\n",
    "var searchParams = new SearchTweetsV2Parameters(query)\n",
    "{\n",
    "    PageSize = 10\n",
    "};\n",
    "\n",
    "var result = await client.SearchV2.SearchTweetsAsync(searchParams);\n",
    "display(result.Tweets.Length);\n",
    "display(result.Tweets.Last().Text);\n",
    "\n",
    "var nextSearchParams = new SearchTweetsV2Parameters(searchParams)\n",
    "{\n",
    "    NextToken = result.SearchMetadata.NextToken\n",
    "};\n",
    "\n",
    "var nextResult = await client.SearchV2.SearchTweetsAsync(nextSearchParams);\n",
    "display(nextResult.Tweets.Length);\n",
    "display(nextResult.Tweets.Last().Text);\n",
    "\n",
    "var iterator = client.SearchV2.GetSearchTweetsV2Iterator(searchParams);\n",
    "var page1 = await iterator.NextPageAsync();\n",
    "\n",
    "display(page1.Content.Tweets.Length);\n",
    "display(page1.Content.Tweets.Last().Text);\n",
    "\n",
    "var page2 = await iterator.NextPageAsync();\n",
    "\n",
    "display(page2.Content.Tweets.Length);\n",
    "display(page2.Content.Tweets.Last().Text);\n",
    "\n",
    ""
   ],
   "outputs": [
    {
     "output_type": "execute_result",
     "data": {
      "text/html": "<div class=\"dni-plaintext\">10</div>"
     },
     "execution_count": 1,
     "metadata": {}
    },
    {
     "output_type": "execute_result",
     "data": {
      "text/plain": "Baneslayer Angel #mtg\n\nSome angels protect the meek and innocent. Others seek out and smite evil wherever it lurks.\n\nArtist: Greg Staples https://t.co/0njQx6ELBf"
     },
     "execution_count": 1,
     "metadata": {}
    },
    {
     "output_type": "execute_result",
     "data": {
      "text/html": "<div class=\"dni-plaintext\">10</div>"
     },
     "execution_count": 1,
     "metadata": {}
    },
    {
     "output_type": "execute_result",
     "data": {
      "text/plain": "RT @PetrKikac: Which one is more expensive? #mtg #mtgjp https://t.co/OvScPpfovv"
     },
     "execution_count": 1,
     "metadata": {}
    },
    {
     "output_type": "execute_result",
     "data": {
      "text/html": "<div class=\"dni-plaintext\">10</div>"
     },
     "execution_count": 1,
     "metadata": {}
    },
    {
     "output_type": "execute_result",
     "data": {
      "text/plain": "Baneslayer Angel #mtg\n\nSome angels protect the meek and innocent. Others seek out and smite evil wherever it lurks.\n\nArtist: Greg Staples https://t.co/0njQx6ELBf"
     },
     "execution_count": 1,
     "metadata": {}
    },
    {
     "output_type": "execute_result",
     "data": {
      "text/html": "<div class=\"dni-plaintext\">10</div>"
     },
     "execution_count": 1,
     "metadata": {}
    },
    {
     "output_type": "execute_result",
     "data": {
      "text/plain": "RT @PetrKikac: Which one is more expensive? #mtg #mtgjp https://t.co/OvScPpfovv"
     },
     "execution_count": 1,
     "metadata": {}
    }
   ]
  },
  {
   "cell_type": "code",
   "execution_count": 1,
   "metadata": {},
   "source": [
    "var query = \"#warszawa\";\n",
    "\n",
    "var searchParams = new SearchTweetsV2Parameters(query)\n",
    "{\n",
    "    // PageSize = 10\n",
    "    StartTime = DateTime.Now.AddMinutes(-5)\n",
    "};\n",
    "\n",
    "var singleRequestResponse = await client.SearchV2.SearchTweetsAsync(searchParams);\n",
    "display(singleRequestResponse.SearchMetadata.ResultCount);\n",
    "\n",
    "var paginatedSearchParams = new SearchTweetsV2Parameters(searchParams)\n",
    "{\n",
    "    PageSize = 20\n",
    "};\n",
    "\n",
    "var paginatedResponses = new List<SearchTweetsV2Response>();\n",
    "var iterator = client.SearchV2.GetSearchTweetsV2Iterator(paginatedSearchParams);\n",
    "var i = 0;\n",
    "while(!iterator.Completed)\n",
    "{\n",
    "    var result = await iterator.NextPageAsync();\n",
    "    paginatedResponses.Add(result.Content);\n",
    "    display(i++);\n",
    "    if (i > 15) break; // Safegourd for potencial code error\n",
    "}\n",
    "\n",
    "// var allTweets = await GetAllTweets(client, paginatedSearchParams);\n",
    "\n",
    "\n",
    "singleRequestResponse.SearchMetadata.ResultCount"
   ],
   "outputs": [
    {
     "output_type": "execute_result",
     "data": {
      "text/html": "<div class=\"dni-plaintext\">59</div>"
     },
     "execution_count": 1,
     "metadata": {}
    },
    {
     "output_type": "execute_result",
     "data": {
      "text/html": "<div class=\"dni-plaintext\">0</div>"
     },
     "execution_count": 1,
     "metadata": {}
    },
    {
     "output_type": "execute_result",
     "data": {
      "text/html": "<div class=\"dni-plaintext\">1</div>"
     },
     "execution_count": 1,
     "metadata": {}
    },
    {
     "output_type": "execute_result",
     "data": {
      "text/html": "<div class=\"dni-plaintext\">2</div>"
     },
     "execution_count": 1,
     "metadata": {}
    },
    {
     "output_type": "execute_result",
     "data": {
      "text/html": "<div class=\"dni-plaintext\">59</div>"
     },
     "execution_count": 1,
     "metadata": {}
    }
   ]
  },
  {
   "cell_type": "code",
   "execution_count": 1,
   "metadata": {},
   "source": [
    "display(paginatedResponses.Select(r => r.SearchMetadata.ResultCount).Sum());\n",
    "\n",
    "display(singleRequestResponse.SearchMetadata.NewestId);\n",
    "display(paginatedResponses.Last().SearchMetadata.NewestId);\n",
    "\n",
    "var singleTweets = singleRequestResponse.Tweets;\n",
    "var paginatedTweets = paginatedResponses.SelectMany(r => r.Tweets).ToArray();\n",
    "\n",
    "display(singleTweets.Length);\n",
    "display(paginatedTweets.Length);\n",
    "\n",
    "display(singleTweets[0].Text);\n",
    "display(paginatedTweets[0].Text);\n",
    "display(singleTweets[^1].Text);\n",
    "display(paginatedTweets[^1].Text);\n",
    "\n",
    "display(\"Oldest tweets\");\n",
    "display(singleTweets.OrderBy(t => t.CreatedAt).Last().Id);\n",
    "display(paginatedTweets.OrderBy(t => t.CreatedAt).Last().Id);\n",
    "\n",
    "// display(allTweets.NewestId);\n",
    ""
   ],
   "outputs": [
    {
     "output_type": "execute_result",
     "data": {
      "text/html": "<div class=\"dni-plaintext\">59</div>"
     },
     "execution_count": 1,
     "metadata": {}
    },
    {
     "output_type": "execute_result",
     "data": {
      "text/plain": "1342603867679305730"
     },
     "execution_count": 1,
     "metadata": {}
    },
    {
     "output_type": "execute_result",
     "data": {
      "text/plain": "1342485762923749379"
     },
     "execution_count": 1,
     "metadata": {}
    },
    {
     "output_type": "execute_result",
     "data": {
      "text/html": "<div class=\"dni-plaintext\">59</div>"
     },
     "execution_count": 1,
     "metadata": {}
    },
    {
     "output_type": "execute_result",
     "data": {
      "text/html": "<div class=\"dni-plaintext\">59</div>"
     },
     "execution_count": 1,
     "metadata": {}
    },
    {
     "output_type": "execute_result",
     "data": {
      "text/plain": "Przejechałem dziś rowerem ok30 km,dla zdrowia. Wideo z 25122020 godz.21:45 pod siedzibą Ministerstwa Sprawiedliwości. Mimo tego co na wideo dźwięki/głosy nadal są kontynuowane. k.. dość! To trwa od lutego 2020, bo co? Żądam wyłączenia tego g..! #filetoprint #plikdodruku #warszawa https://t.co/QTvvKIdBzs"
     },
     "execution_count": 1,
     "metadata": {}
    },
    {
     "output_type": "execute_result",
     "data": {
      "text/plain": "Przejechałem dziś rowerem ok30 km,dla zdrowia. Wideo z 25122020 godz.21:45 pod siedzibą Ministerstwa Sprawiedliwości. Mimo tego co na wideo dźwięki/głosy nadal są kontynuowane. k.. dość! To trwa od lutego 2020, bo co? Żądam wyłączenia tego g..! #filetoprint #plikdodruku #warszawa https://t.co/QTvvKIdBzs"
     },
     "execution_count": 1,
     "metadata": {}
    },
    {
     "output_type": "execute_result",
     "data": {
      "text/plain": "#Warszawa #Bemowo 2020-12-25 13:00\nTemp: 3.8°C Wilg: 86% Ciśn: 1011.0 hPa\nPM 1.0: 4 μg/m³ (20% normy)\nPM 2.5: 6 μg/m³ (24% normy)\nPM 10:  6 μg/m³ (12% normy)\n#smog\n https://t.co/0qhOrlcLaH"
     },
     "execution_count": 1,
     "metadata": {}
    },
    {
     "output_type": "execute_result",
     "data": {
      "text/plain": "#Warszawa #Bemowo 2020-12-25 13:00\nTemp: 3.8°C Wilg: 86% Ciśn: 1011.0 hPa\nPM 1.0: 4 μg/m³ (20% normy)\nPM 2.5: 6 μg/m³ (24% normy)\nPM 10:  6 μg/m³ (12% normy)\n#smog\n https://t.co/0qhOrlcLaH"
     },
     "execution_count": 1,
     "metadata": {}
    },
    {
     "output_type": "execute_result",
     "data": {
      "text/plain": "Oldest tweets"
     },
     "execution_count": 1,
     "metadata": {}
    },
    {
     "output_type": "execute_result",
     "data": {
      "text/plain": "1342603867679305730"
     },
     "execution_count": 1,
     "metadata": {}
    },
    {
     "output_type": "execute_result",
     "data": {
      "text/plain": "1342603867679305730"
     },
     "execution_count": 1,
     "metadata": {}
    },
    {
     "output_type": "execute_result",
     "data": {
      "text/plain": "1342603867679305730"
     },
     "execution_count": 1,
     "metadata": {}
    }
   ]
  },
  {
   "cell_type": "code",
   "execution_count": 1,
   "metadata": {},
   "source": [
    "public class AllTweetsResponse\n",
    "{\n",
    "    public TweetV2[] Tweets { get; set; }\n",
    "    public string NewestId { get; set; }\n",
    "}"
   ],
   "outputs": []
  },
  {
   "cell_type": "code",
   "execution_count": 1,
   "metadata": {},
   "source": [
    "public async Task<AllTweetsResponse> GetAllTweets(\n",
    "    TwitterClient client,\n",
    "    SearchTweetsV2Parameters parameters)\n",
    "{\n",
    "    var tweets = new List<TweetV2>();\n",
    "    var iterator = client.SearchV2.GetSearchTweetsV2Iterator(parameters);\n",
    "    while(!iterator.Completed)\n",
    "    {\n",
    "        var result = await iterator.NextPageAsync();\n",
    "        tweets.AddRange(result.Content.Tweets);\n",
    "    }\n",
    "\n",
    "    return new AllTweetsResponse\n",
    "    {\n",
    "        Tweets = tweets.ToArray(),\n",
    "        NewestId = tweets.OrderBy(t => t.CreatedAt).Last().Id\n",
    "    };\n",
    "}"
   ],
   "outputs": []
  },
  {
   "cell_type": "code",
   "execution_count": 1,
   "metadata": {},
   "source": [
    "var values = new List<ValueTuple<int, string>>() {(2, \"Hi\"), (1, \"Jone\"), (7, \"Sid\"), (5, \"Smoke\")};\n",
    "\n",
    "display(values.Max(v => v.Item1));\n",
    "\n",
    "values.Aggregate((agg, next) => next.Item1 > agg.Item1 ? next : agg)"
   ],
   "outputs": [
    {
     "output_type": "execute_result",
     "data": {
      "text/html": "<div class=\"dni-plaintext\">7</div>"
     },
     "execution_count": 1,
     "metadata": {}
    },
    {
     "output_type": "execute_result",
     "data": {
      "text/html": "<table><thead><tr><th>Item1</th><th>Item2</th></tr></thead><tbody><tr><td><div class=\"dni-plaintext\">7</div></td><td><div class=\"dni-plaintext\">Sid</div></td></tr></tbody></table>"
     },
     "execution_count": 1,
     "metadata": {}
    }
   ]
  }
 ],
 "metadata": {
  "kernelspec": {
   "display_name": ".NET (C#)",
   "language": "C#",
   "name": ".net-csharp"
  },
  "language_info": {
   "file_extension": ".cs",
   "mimetype": "text/x-csharp",
   "name": "C#",
   "pygments_lexer": "csharp",
   "version": "8.0"
  }
 },
 "nbformat": 4,
 "nbformat_minor": 4
}