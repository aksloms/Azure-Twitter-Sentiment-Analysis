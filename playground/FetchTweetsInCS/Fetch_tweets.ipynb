{
 "cells": [
  {
   "cell_type": "markdown",
   "metadata": {},
   "source": [
    "# Interactive .Net notebook to test Twitter API"
   ]
  },
  {
   "cell_type": "code",
   "execution_count": 1,
   "metadata": {},
   "source": [
    "Console.WriteLine(\"Hi C#\");"
   ],
   "outputs": [
    {
     "output_type": "execute_result",
     "data": {
      "text/plain": "Hi C#\n"
     },
     "execution_count": 1,
     "metadata": {}
    }
   ]
  },
  {
   "cell_type": "markdown",
   "metadata": {},
   "source": [
    "Import libraries"
   ]
  },
  {
   "cell_type": "code",
   "execution_count": 1,
   "metadata": {},
   "source": [
    "#r \"nuget:System.Text.Json\"\n",
    "#r \"nuget:TweetinviAPI\"\n",
    "#r \"nuget:Microsoft.Extensions.Configuration\"\n",
    "#r \"nuget:Microsoft.Extensions.Configuration.Binder\"\n",
    "#r \"nuget:Microsoft.Extensions.Configuration.Yaml,*-*\"\n",
    ""
   ],
   "outputs": [
    {
     "output_type": "execute_result",
     "data": {
      "text/plain": "Installed package Microsoft.Extensions.Configuration.Binder version 5.0.0"
     },
     "execution_count": 1,
     "metadata": {}
    }
   ]
  },
  {
   "cell_type": "markdown",
   "metadata": {},
   "source": [
    "Load configuration"
   ]
  },
  {
   "cell_type": "code",
   "execution_count": 1,
   "metadata": {},
   "source": [
    "public class TwitterApiConfig\n",
    "{\n",
    "    public string ConsumerKey { get; set; }\n",
    "    public string ConsumerSecret { get; set; }\n",
    "    public string BearerToken { get; set; }\n",
    "}"
   ],
   "outputs": []
  },
  {
   "cell_type": "code",
   "execution_count": 1,
   "metadata": {},
   "source": [
    "using System.IO;\n",
    "using Microsoft.Extensions.Configuration;\n",
    "using Microsoft.Extensions.Configuration.Yaml;\n",
    "\n",
    "var config = new ConfigurationBuilder()\n",
    "    .AddYamlFile($\"{Directory.GetCurrentDirectory()}/appsettings.yml\").Build();\n",
    "\n",
    "var twitterApiConfig = new TwitterApiConfig();\n",
    "config.GetSection(\"twitterApi\").Bind(twitterApiConfig);"
   ],
   "outputs": []
  },
  {
   "cell_type": "code",
   "execution_count": 1,
   "metadata": {},
   "source": [
    "using Tweetinvi;\n",
    "using Tweetinvi.Models;\n",
    "\n",
    "var appCredentials = new ConsumerOnlyCredentials(twitterApiConfig.ConsumerKey, twitterApiConfig.ConsumerSecret)\n",
    "{\n",
    "    BearerToken = twitterApiConfig.BearerToken\n",
    "};\n",
    "var client = new TwitterClient(appCredentials);"
   ],
   "outputs": []
  },
  {
   "cell_type": "code",
   "execution_count": 1,
   "metadata": {},
   "source": [
    "var searchResponse = await client.SearchV2.SearchTweetsAsync(\"hello\");\n",
    ""
   ],
   "outputs": []
  },
  {
   "cell_type": "code",
   "execution_count": 1,
   "metadata": {},
   "source": [
    "using Tweetinvi.Parameters.V2;\n",
    "\n",
    "var searchParams = new SearchTweetsV2Parameters(\"#home\")\n",
    "{\n",
    "    StartTime = DateTime.UtcNow.AddMinutes(-5)\n",
    "};\n",
    "\n",
    "(await client.SearchV2.SearchTweetsAsync(searchParams))\n",
    "    .Tweets.Select(t => t.Text)"
   ],
   "outputs": [
    {
     "output_type": "execute_result",
     "data": {
      "text/html": "<table><thead><tr><th><i>index</i></th><th>value</th></tr></thead><tbody><tr><td>0</td><td><div class=\"dni-plaintext\">Keeping your home organized starts with being very confident in what you bring into the space. Learn More ==&amp;gt; https://t.co/GCZi3KqzK2 @bluekeyworld #cablesleeve #home</div></td></tr><tr><td>1</td><td><div class=\"dni-plaintext\">Whether you are after the warmth of wood, the grandeur of stone, #Karndean #Flooring looks exactly like the natural material it has been designed to imitate! #Floor #Vinyl #VinylFlooring #Home #Interiors #InteriorDesign #Karndean #London https://t.co/nHVNtzUQi4 https://t.co/sZmyP4Eb9r</div></td></tr><tr><td>2</td><td><div class=\"dni-plaintext\">Hoomall Cutlery Stainless Steel Western Dinnerware Set Home Party Tableware Dinner Set Kitchen Accessories Dropshipping Hot Sale https://t.co/vAwyZvjRLI\n#fashion|#tech|#home|#lifestyle https://t.co/EqWVoakyLn</div></td></tr><tr><td>3</td><td><div class=\"dni-plaintext\">Holidays mode on!\n#thursday #holydays #home #summer #iphone11 #picoftheday #photooftheday #followme #gay #gaycouple #gaylife #gayhome #gayboy #gaypride https://t.co/DS5g9ur0BC</div></td></tr><tr><td>4</td><td><div class=\"dni-plaintext\">My oh my! How our giving tree has grown! Thank you so much to all of our residents that donated! #BellemontVictoriaII #Home #BatonRouge #Apartments #Louisiana #HappyHolidays #Donations https://t.co/0rou0RX7aC</div></td></tr><tr><td>5</td><td><div class=\"dni-plaintext\">Best #paint ever!  Boardwalk &#128525; \nby Treasures by the Sea  $ 17.00. \n  https://t.co/TYhUF9SCzW https://t.co/wU78W3rX2Z\n#home https://t.co/FWEzU7I3Za</div></td></tr><tr><td>6</td><td><div class=\"dni-plaintext\">RT @lauramorenogh: My new startup HomeFlow is now LIVE on @ProductHunt! Easily avoid making expensive mistakes when you buy your first home…</div></td></tr><tr><td>7</td><td><div class=\"dni-plaintext\">Getting gifts is great, but giving gifts is really rad. Agree or disagree? #thehelpfulagent #home #houseexpert #house #listreports #santaclaus #holiday #believe #happyholidays #realestate #realestateagent #homeowner Call/Text (501) 612-3838 or Visit https://t.co/TM7YYECuen https://t.co/aUrM9xOS02</div></td></tr><tr><td>8</td><td><div class=\"dni-plaintext\">Je nne me soutien splus de l&#39;ann&#233;e du 1er COP, &#224; Rio, mais #Home, c&#39;&#233;tait il y a 10 ans ... \nhttps://t.co/16dBfQxoXd</div></td></tr><tr><td>9</td><td><div class=\"dni-plaintext\">Wishing All my family &amp;amp; friends a MERRY CHRISTMAS. \nFELIZ NAVIDAD a todos ! \nGetting gifts is great, but giving gifts is really rad. Agree or disagree? \n#thehelpfulagent #home #houseexpert #house #listreports #santaclaus #holiday #believe #happyholidays #realestate https://t.co/H5KlrO1yhd</div></td></tr><tr><td>10</td><td><div class=\"dni-plaintext\">Have some #FamilyFun tonight by staying #home. Be safe &amp;amp; stay healthy!\n&#120022;\n&#120022;\n&#120022;\n#premierhomes #signaturehomesmovedbycompass #compass #christmaseve #christmas #christmas2020 #christmasmovies #familytime #christmasbreak #merrychristmas #winterbreak #family #love #traditions https://t.co/CB5hVT7LMk</div></td></tr><tr><td>11</td><td><div class=\"dni-plaintext\">Coastal Remodel by Builder Boy\n\nhttps://t.co/9yIgA213cr\n\n#home #decor #architecture #interiordesign https://t.co/Ig2YLyu1Ds</div></td></tr><tr><td>12</td><td><div class=\"dni-plaintext\">#home #homesweethome #Хуня ♥️ @ Moscow, Russia https://t.co/6tcn7bm5Ee</div></td></tr><tr><td>13</td><td><div class=\"dni-plaintext\">#HomeForTheHolidays is the best place to be. What are some of your holiday traditions?\n&#129517;\n&#129517;\n&#129517;\n#signaturehomesmovedbycompass #compass #christmas #christmas2020 #merrychristmas #christmaseve #covidchristmas #family #familytime #love #randr #seasonsgreetings #hinsdale #home https://t.co/oYZn5pgMYk</div></td></tr><tr><td>14</td><td><div class=\"dni-plaintext\">From our BUBBLE to yours - Happy Holidays!\n#mphomes #yyc #mphomesliving #calgary #seasonsgreetings #home #homefortheholidays #christmas #christmas2020 #yychomes #christmastime #joy #hope #love #yyccr #yycnow #christmasspirit #christmaswish #christmasvibes #yycinnercitybuilder https://t.co/Bcw05jCxuu</div></td></tr><tr><td>15</td><td><div class=\"dni-plaintext\">HOW DO YOU SELL A HOME THAT IS IN A TRUST?\n\nIf you need me as a lawyer, just call:\n\n972-845-1200 or check out my website at https://t.co/OiujqQtyT7\n469-708-0022  /  https://t.co/Tp0h2JKMFB \n\nSubscribe &amp;amp; share:  https://t.co/0YW7Mbhrf4\n\n#home #trust #oakcliffadvocate #knowledge https://t.co/EXpdSFvbpf</div></td></tr><tr><td>16</td><td><div class=\"dni-plaintext\">Any uncontrolled source of water that enters your home could be a potential source of money that you will lose to repairs or replacement.\n\nhttps://t.co/yXaWRh4esX\n\n#regencydrt #home #family #waterdamage #restoration #business #pipebreak #leak #flood</div></td></tr><tr><td>17</td><td><div class=\"dni-plaintext\">Vaccine rollout could boost the travel industry—and spell the end of deep discounts https://t.co/Zchiz5Je2U #Home #Lifestyle #HomeDesign #LuxuryHome #LuxuryHouse #RealEstate #Luxury #Architecture #Fortune</div></td></tr><tr><td>18</td><td><div class=\"dni-plaintext\">As the old song goes, &#127925;&quot;there&#39;s no place like home for the holidays.&quot;&#127926; Who says you need to leave the house to have a day full of cozy, creative activities!?&#127877;&#127876;\n\nCheck out these Holly Jolly ways to spend Christmas Eve!   https://t.co/YFdqcQdt7e\n\n#home #newhome #christmas2020 https://t.co/flARjPYVd3</div></td></tr><tr><td>19</td><td><div class=\"dni-plaintext\">#Fur #Furfashion #Home  #Blanket #Luxury  #Furstyle #Christmasgift #Furhome #Furpassion #Design #Sale #Gift #Home,https://t.co/NtnY9DGd6v https://t.co/YLSCRYSSam</div></td></tr><tr><td colspan=\"2\">(80 more)</td></tr></tbody></table>"
     },
     "execution_count": 1,
     "metadata": {}
    }
   ]
  },
  {
   "cell_type": "code",
   "execution_count": 1,
   "metadata": {},
   "source": [
    "searchResponse.Tweets.Select(t => t.Text)"
   ],
   "outputs": [
    {
     "output_type": "execute_result",
     "data": {
      "text/html": "<table><thead><tr><th><i>index</i></th><th>value</th></tr></thead><tbody><tr><td>0</td><td><div class=\"dni-plaintext\">@weluvchelin @themahnetea Girl hello you saying allat like Che didn’t use to watch Erick too like be fair.</div></td></tr><tr><td>1</td><td><div class=\"dni-plaintext\">RT @moricalliope: Hello, Dead Beats.\nI had been working hard on the song I mentioned before. However, I have just been told that due to rea…</div></td></tr><tr><td>2</td><td><div class=\"dni-plaintext\">RT @SpiderCluster: Hello guys\n\n3DAYS TO SALMANs BDAY</div></td></tr><tr><td>3</td><td><div class=\"dni-plaintext\">@tbzsnw HELLO?!?!?!(!)?</div></td></tr><tr><td>4</td><td><div class=\"dni-plaintext\">@multistrayed_ hello po! hindi tayo gano’n ka-close pero gusto ko lang malaman mo na i appreciate you so much&#129402; sana (kahit papaano) maganda ‘yung naging takbo ng 2020 mo. thank you for making other people happy. god bless you and happy holidays☺️&#128150;   @shaminguin @mbbstruggletwts @djhwone 193</div></td></tr><tr><td>5</td><td><div class=\"dni-plaintext\">RT @PramodC32186814: Hello MY favourite HEARTIEST SUPERSTAR @sucherita_k BOSS &#128150;&#128150;&#128522; Awwwwwwwww&#128149;&#128149; Hayee AAJKA look awessomme&#129392;&#129392;&#129392;&#129392; looks verryyy…</div></td></tr><tr><td>6</td><td><div class=\"dni-plaintext\">RT @moonchildminaa: hello does anyone know where can i get these type of cakes that delivers to shah alam area &#129402;</div></td></tr><tr><td>7</td><td><div class=\"dni-plaintext\">RT @galleliblubelli: #มุกเสี่ยวเกี้ยวกลัฟ\n\nHello @gulfkanawut  I&#39;m Thief and I&#39;m here to steal Ur heart https://t.co/u5RIt2R1fb</div></td></tr><tr><td>8</td><td><div class=\"dni-plaintext\">Hello fans ya sexy ass nice is going on live on Snapchat &#128571; Don&#39;t know what to do hit the follow &#127825; to get  DM &#128536; https://t.co/7c2NQWADab</div></td></tr><tr><td>9</td><td><div class=\"dni-plaintext\">@itisthehormones Sana kunin na sya ni santa(nas) &#129315; Joke lang. (Hello, Jesus! &#128513;)\n\nHappy holidays, doc!</div></td></tr><tr><td>10</td><td><div class=\"dni-plaintext\">RT @winmside: @SMTownEngSub @BrightWinEngSub OMG HELLO\n\n@winmetawin #winmetawin https://t.co/yMHLlY6819</div></td></tr><tr><td>11</td><td><div class=\"dni-plaintext\">RT @dojarabbit: Hello, someone just paid for 3 and asked that I give people who need it in Ibadan. Please if you&#39;re in Ibadan and you genui…</div></td></tr><tr><td>12</td><td><div class=\"dni-plaintext\">RT @hellotacha: HELLO QUEEN OF OUR HEARTS @Symply_Tacha &#128305;&#128305;\n\n#TachaBDayBash\n#QueenTDay\n#HappyBirthdayTacha\n#BigTacha25\n#Tacha https://t.co/j…</div></td></tr><tr><td>13</td><td><div class=\"dni-plaintext\">@parsnipfish hello jrouse</div></td></tr><tr><td>14</td><td><div class=\"dni-plaintext\">RT @BharadwajSpeaks: Hello. I have recently been missing in action on social media as professional commitments have been keeping me engaged…</div></td></tr><tr><td>15</td><td><div class=\"dni-plaintext\">@spicyfoxlady Hello baby &#128151;</div></td></tr><tr><td>16</td><td><div class=\"dni-plaintext\">@elisewindle Hello Elise! For security reasons, could you please confirm your full name, your order number, your email address, the first line of the billing address and the postcode you used when placing the order and I will take a look at your order. Thanks, Catalin.</div></td></tr><tr><td>17</td><td><div class=\"dni-plaintext\">RT @doIIyIove: Hello. https://t.co/smfVfZkBi0</div></td></tr><tr><td>18</td><td><div class=\"dni-plaintext\">@neuerwtf Hello 11 yr old</div></td></tr><tr><td>19</td><td><div class=\"dni-plaintext\">HELLO SA SA SAKURAS AND KAY KWEEN YASMIN HAHAHAHDKSHFKSHJSHS</div></td></tr><tr><td colspan=\"2\">(80 more)</td></tr></tbody></table>"
     },
     "execution_count": 1,
     "metadata": {}
    }
   ]
  }
 ],
 "metadata": {
  "kernelspec": {
   "display_name": ".NET (C#)",
   "language": "C#",
   "name": ".net-csharp"
  },
  "language_info": {
   "file_extension": ".cs",
   "mimetype": "text/x-csharp",
   "name": "C#",
   "pygments_lexer": "csharp",
   "version": "8.0"
  }
 },
 "nbformat": 4,
 "nbformat_minor": 4
}